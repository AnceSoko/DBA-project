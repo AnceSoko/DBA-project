{
 "cells": [
  {
   "cell_type": "markdown",
   "id": "37315385-eac3-46dd-a6c1-ee1ee34d50c9",
   "metadata": {},
   "source": [
    "# 2. Population of database tables"
   ]
  },
  {
   "cell_type": "markdown",
   "id": "9eb9499c-f8a9-4b0e-b076-ed2ebf37104a",
   "metadata": {},
   "source": [
    "First of all, it is important to mention that this database is completely fictional and 100% constructed by me.\n"
   ]
  },
  {
   "cell_type": "markdown",
   "id": "5bae4f30-ffd2-4007-b08d-1585ea975432",
   "metadata": {},
   "source": [
    "There were mainly 3 ways I populated my database tables:"
   ]
  },
  {
   "cell_type": "markdown",
   "id": "d55c456d-681b-47ae-9104-2fb6e97b29ca",
   "metadata": {},
   "source": [
    "1. By using a simple `INSERT INTO ... SELECT` statement\n",
    "2. By using a complex `INSERT INTO ... SELECT` statement\n",
    "3. By using Python code in VSCode"
   ]
  },
  {
   "cell_type": "markdown",
   "id": "93c3ac11-d14e-49c0-9266-4d9ca694a095",
   "metadata": {},
   "source": [
    "## 1. Simple `INSERT INTO` statement"
   ]
  },
  {
   "cell_type": "markdown",
   "id": "1d1822a0-8b38-471d-9445-882ff26ae1a0",
   "metadata": {},
   "source": [
    "I used `INSERT INTO ` statement in the independent tables like Books, Authors, Genres, Customers "
   ]
  },
  {
   "cell_type": "markdown",
   "id": "1a3477c2-25ff-4c5a-a8e3-0b046c96de43",
   "metadata": {},
   "source": [
    "**Books table:**"
   ]
  },
  {
   "cell_type": "markdown",
   "id": "b0338b4e-8fe4-4fe9-961d-699c2000bfa9",
   "metadata": {},
   "source": [
    "```sql\n",
    "INSERT INTO books (title, publication_date, ISBN, stock_quantity, avarage_rating)\n",
    "VALUES\n",
    "  ('The Starry Chronicles', '2022-03-15', '9781234567890', 50, 4.5),\n",
    "  ('Secrets of the Enchanted Forest', '2022-05-20', '9782345678901', 40, 4.2),\n",
    "  ('The Lost City of Atlantis', '2022-04-10', '9783456789012', 30, 4.7), \n",
    "  ...\n"
   ]
  },
  {
   "cell_type": "markdown",
   "id": "0438f97d-7b8a-4e7c-a99a-81e46f50888d",
   "metadata": {},
   "source": [
    "**Authors table:**"
   ]
  },
  {
   "cell_type": "markdown",
   "id": "3d4aed3d-4aeb-4a27-80f5-cedd1917f1e5",
   "metadata": {},
   "source": [
    "```sql\n",
    "INSERT INTO authors (author_name, birth_date, nationality)\n",
    "VALUES\n",
    "    ('John Smith', '1980-05-15', 'American'),\n",
    "    ('Maria García', '1991-12-10', 'Spanish'),\n",
    "    ('Hiroshi Tanaka', '1975-03-22', 'Japanese'),\n",
    " ..."
   ]
  },
  {
   "cell_type": "markdown",
   "id": "d8e1b44f-7f1c-4c2f-93b0-9a9735e57a0e",
   "metadata": {},
   "source": [
    "**Customers table:**"
   ]
  },
  {
   "cell_type": "markdown",
   "id": "961a8118-16fa-44a4-a8c9-3d49e6cbbae8",
   "metadata": {},
   "source": [
    "```sql\n",
    "INSERT INTO customers (first_name, last_name, email, password, phone, address, membership_status, registration_date, last_login, country)\n",
    "VALUES\n",
    "('John', 'Smith', 'john.smith@example.com', 'password1', '123-456-7890', '123 Main St, London, UK', 'Standard', '2000-05-15', '2023-10-16', 'UK'),\n",
    "('Alice', 'Johnson', 'alice.johnson@example.com', 'password2', '234-567-8901', '456 Elm St, Paris, France', 'Premium', '2005-10-20', '2023-10-15', 'France'),\n",
    "('Michael', 'Miller', 'michael.miller@example.com', 'password3', '345-678-9012', '789 Oak St, Berlin, Germany', 'VIP', '2010-07-07', '2023-10-14', 'Germany'),\n",
    "..."
   ]
  },
  {
   "cell_type": "markdown",
   "id": "45b39ede-b4d6-4651-9b39-aa924c9908e8",
   "metadata": {},
   "source": [
    "**Genres table:**"
   ]
  },
  {
   "cell_type": "markdown",
   "id": "63d367eb-b627-45c1-8dd6-2bcd4c8b8cb7",
   "metadata": {},
   "source": [
    "```sql\n",
    "INSERT INTO genres (genre_name)\n",
    "VALUES\n",
    "    ('Science Fiction'),\n",
    "    ('Fantasy'),\n",
    "    ('Mystery'),\n",
    " ..."
   ]
  },
  {
   "cell_type": "markdown",
   "id": "63639b39-489b-46d8-a767-7d1a96f69c02",
   "metadata": {},
   "source": [
    "## 2. Complex `INSERT INTO ` statement"
   ]
  },
  {
   "cell_type": "markdown",
   "id": "0a1277f2-b2be-49d3-a94f-f234c5151a1d",
   "metadata": {},
   "source": [
    "I used it to populate payments table:"
   ]
  },
  {
   "cell_type": "markdown",
   "id": "8778c974-17cb-4d4e-a264-7ee6cce332b1",
   "metadata": {},
   "source": [
    "```sql\n",
    "INSERT INTO payments (order_id, payment_date, payment_method, amount, status)\n",
    "SELECT\n",
    "  o.order_id,\n",
    "  DATE(NOW() - INTERVAL FLOOR(RAND() * 1096) DAY) AS payment_date,\n",
    "  CASE FLOOR(RAND() * 3)\n",
    "    WHEN 0 THEN 'Credit Card'\n",
    "    WHEN 1 THEN 'PayPal'\n",
    "    WHEN 2 THEN 'App Wallet'\n",
    "  END AS payment_method,\n",
    "  SUM(oi.subtotal) AS amount,\n",
    "  CASE FLOOR(RAND() * 4)\n",
    "    WHEN 0 THEN 'Pending'\n",
    "    WHEN 1 THEN 'Completed'\n",
    "    WHEN 2 THEN 'Failed'\n",
    "    WHEN 3 THEN 'Refunded'\n",
    "  END AS status\n",
    "FROM orders AS o\n",
    "JOIN orderitems AS oi ON o.order_id = oi.order_id\n",
    "GROUP BY o.order_id;\n",
    "```"
   ]
  },
  {
   "cell_type": "markdown",
   "id": "28020560-d5f2-4058-aaac-0c5665037ae1",
   "metadata": {},
   "source": [
    "The data for this table is derived from the Orders and Orderitems tables, using `JOIN` based on the order_id column, and the `GOUP BY` clause groups the data by the order_id in the orders table."
   ]
  },
  {
   "cell_type": "markdown",
   "id": "7bc32e37-26f8-446d-9b80-7224f37582db",
   "metadata": {},
   "source": [
    "`DATE(NOW() - INTERVAL FLOOR(RAND() * 1096) DAY)` generates a random date within the last 3 years."
   ]
  },
  {
   "cell_type": "markdown",
   "id": "3996b258-447b-42a0-8652-f5a928e5ad5a",
   "metadata": {},
   "source": [
    "`CASE FLOOR(RAND() * 3)` generates a random payment method."
   ]
  },
  {
   "cell_type": "markdown",
   "id": "6b6bc7af-210e-45b6-adf5-835dab7255b6",
   "metadata": {},
   "source": [
    "`SUM(oi.subtotal)` calculates the payment amount as the sum of item subtotals."
   ]
  },
  {
   "cell_type": "markdown",
   "id": "a663346b-6ad5-4e18-9557-b004a86a0f6b",
   "metadata": {},
   "source": [
    "`CASE FLOOR(RAND() * 4)` enerates a random payment status."
   ]
  },
  {
   "cell_type": "markdown",
   "id": "bb72752b-4096-47e5-a1bc-355303b0f147",
   "metadata": {},
   "source": [
    "## Using Python"
   ]
  },
  {
   "cell_type": "markdown",
   "id": "d5c51e37-69fd-47b3-a2e3-f6a2b522e22e",
   "metadata": {},
   "source": [
    "In tables like Orderitems, Loyaltypoints, Authorsbooks, Genresbooks, Orders, Reviews, which are dependent tables, to generate data I decided to use Python. As I am additionally studying Python, I decided to put my new knowledge in use and use random to generate records for these tables."
   ]
  },
  {
   "cell_type": "markdown",
   "id": "157cfc3f-31c8-4bff-b142-2d6625a1f61c",
   "metadata": {},
   "source": [
    "### Generating `INSERT INTO`statements with Python:"
   ]
  },
  {
   "cell_type": "markdown",
   "id": "cb3f9b17-6655-486b-87fa-7736eeccb45d",
   "metadata": {},
   "source": [
    "Code to populate Authorsbooks and Genresbooks (as they have the same idea). These tables are made of composite foreign keys that function as primary keys, a result of M:M relationship. So to successfuly make those tables I had to take in account actual values of primary key from table Authors and Books, and in the other case - primary key of Genres table and primary key of Books table:"
   ]
  },
  {
   "cell_type": "markdown",
   "id": "e7f2068f-fcad-4dee-b581-4127c0c94284",
   "metadata": {},
   "source": [
    "**Authorsbooks table:**"
   ]
  },
  {
   "cell_type": "markdown",
   "id": "f51609d5-77ac-4224-ac64-939404c3c7f5",
   "metadata": {},
   "source": [
    "```python\n",
    "import random \r\n",
    "\r\n",
    "# Generate a list of unique book IDs\r\n",
    "book_ids = list(range(1, 522))  # Book IDs from 1 to 521\r\n",
    "\r\n",
    "# Create a list of authors with unique book IDs\r\n",
    "associations = [(authors_id, book_id) for authors_id, book_id in zip(range(1, 219), book_ids[:218])]\r\n",
    "\r\n",
    "# Randomly assign authors to the remaining book IDs\r\n",
    "for book_id in book_ids[218:]:\r\n",
    "    authors_id = random.randint(1, 218)\r\n",
    "    associations.append((authors_id, book_id))\r\n",
    "\r\n",
    "# Create SQL INSERT INTO statements\r\n",
    "sql_statements = []\r\n",
    "for authors_id, book_id in associations:\r\n",
    "    sql = f\"INSERT INTO authorsbooks (authors_id, book_id) VALUES ({authors_id}, {book_id});\"\r\n",
    "    sql_statements.append(sql)\r\n",
    "\r\n",
    "# Print the SQL statements\r\n",
    "for sql in sql_statements:\r\n",
    "    print(sql)"
   ]
  },
  {
   "cell_type": "markdown",
   "id": "7323bb5e-536a-4fb5-a417-d65902cebabd",
   "metadata": {},
   "source": [
    "Result:\n",
    "```sql\n",
    "INSERT INTO authorsbooks (authors_id, book_id) VALUES (1, 1);\n",
    "INSERT INTO authorsbooks (authors_id, book_id) VALUES (2, 2);  \n",
    "INSERT INTO authorsbooks (authors_id, book_id) VALUES (3, 3); \n",
    "..."
   ]
  },
  {
   "cell_type": "markdown",
   "id": "5ca1977d-94ce-4519-bbf4-f8112195d346",
   "metadata": {},
   "source": [
    "**Genresbooks table:**"
   ]
  },
  {
   "cell_type": "markdown",
   "id": "a0446ee9-0a57-46b5-92a3-b5dc8999a337",
   "metadata": {},
   "source": [
    "```python\n",
    "import random\r\n",
    "\r\n",
    "# Generate a list of unique book IDs\r\n",
    "book_ids = list(range(1, 522))  # Book IDs from 1 to 521\r\n",
    "\r\n",
    "# Create a list of genres with unique book IDs\r\n",
    "associations = [(genre_id, book_id) for genre_id, book_id in zip(range(1, 49), book_ids[:48])]\r\n",
    "\r\n",
    "# Randomly assign genres to the remaining book IDs\r\n",
    "for book_id in book_ids[48:]:\r\n",
    "    genre_id = random.randint(1, 48)\r\n",
    "    associations.append((genre_id, book_id))\r\n",
    "\r\n",
    "# Create SQL INSERT INTO statements\r\n",
    "sql_statements = []\r\n",
    "for genre_id, book_id in associations:\r\n",
    "    sql = f\"INSERT INTO genresbooks (genre_id, book_id) VALUES ({genre_id}, {book_id});\"\r\n",
    "    sql_statements.append(sql)\r\n",
    "\r\n",
    "# Print the SQL statements\r\n",
    "for sql in sql_statements:\r\n",
    "    print(sql)"
   ]
  },
  {
   "cell_type": "markdown",
   "id": "8fe34976-733d-4052-9804-d4b7da40ef3a",
   "metadata": {},
   "source": [
    "Result: \n",
    "```sql\n",
    "INSERT INTO genresbooks (genre_id, book_id) VALUES (1, 1);\n",
    "INSERT INTO genresbooks (genre_id, book_id) VALUES (2, 2);  \n",
    "INSERT INTO genresbooks (genre_id, book_id) VALUES (3, 3);\n",
    "..."
   ]
  },
  {
   "cell_type": "markdown",
   "id": "ce09c149-57b5-4b7e-b811-f48249bcefd9",
   "metadata": {},
   "source": [
    "**Loyalty points table**  \n",
    "In this table I had to use existing customer_id from table Customers and generate the rest of needed data to populate the table\n"
   ]
  },
  {
   "cell_type": "markdown",
   "id": "d0b47bca-1564-4c7d-8b16-65b25bdc7253",
   "metadata": {},
   "source": [
    "```python\n",
    "from random import randint\r\n",
    "from datetime import datetime, timedelta\r\n",
    "\r\n",
    "# Number of customers\r\n",
    "num_customers = 309\r\n",
    "\r\n",
    "# Function to generate a random date between 'start' and 'end'\r\n",
    "def random_date(start, end):\r\n",
    "    return start + timedelta(seconds=randint(0, int((end - start).total_seconds())))\r\n",
    "\r\n",
    "# Print SQL INSERT statements\r\n",
    "for customer_id in range(1, num_customers + 1):\r\n",
    "    # Generate random data\r\n",
    "    points_earned = randint(1, 1000)\r\n",
    "    transaction_date = random_date(datetime(2021, 1, 1), datetime.now())\r\n",
    "\r\n",
    "    # SQL INSERT statement\r\n",
    "    insert_query = f\"INSERT INTO loyaltypoints (customer_id, points_earned, transaction_date) VALUES ({customer_id}, {points_earned}, '{transaction_date.strftime('%Y-%m-%d %H:%M:%S')}');\"\r\n",
    "    \r\n",
    "    print(insert_query)\r\n"
   ]
  },
  {
   "cell_type": "markdown",
   "id": "4d374743-5914-4b8d-b8bd-5b299f713dca",
   "metadata": {},
   "source": [
    "Result:\n",
    "```sql\n",
    "INSERT INTO loyaltypoints (customer_id, points_earned, transaction_date) VALUES (1, 74, '2023-07-29 08:03:40');\n",
    "INSERT INTO loyaltypoints (customer_id, points_earned, transaction_date) VALUES (2, 258, '2021-12-02 04:34:58'); \n",
    "INSERT INTO loyaltypoints (customer_id, points_earned, transaction_date) VALUES (3, 45, '2023-02-28 09:48:39');  \n",
    "..."
   ]
  },
  {
   "cell_type": "markdown",
   "id": "aa909da9-42f9-4250-8e14-987726a93ed0",
   "metadata": {},
   "source": [
    "**Reviews table**  \n",
    "In Reviews table I had to take in account existing book_id and customer_id, as those were foreign keys and actual customers leave actual reviews. It is not neccessary for every book to have review or for every customer to leave a review, so I made a total of 250 reviews just add something in the database."
   ]
  },
  {
   "cell_type": "markdown",
   "id": "a9a4fd1a-fa70-4d84-ace1-751d18da8b80",
   "metadata": {},
   "source": [
    "```python\n",
    "import random\r\n",
    "from datetime import date, timedelta\r\n",
    "\r\n",
    "# The number of reviews to generate\r\n",
    "num_reviews = 250\r\n",
    "\r\n",
    "# Function to replace single quotes with double single quotes\r\n",
    "def escape_quotes(text):\r\n",
    "    if text is not None:\r\n",
    "        return text.replace(\"'\", \"''\")\r\n",
    "    else:\r\n",
    "        return 'NULL'\r\n",
    "\r\n",
    "# Generate and print random reviews\r\n",
    "for _ in range(num_reviews):\r\n",
    "    customer_id = random.randint(1, 309)  # Number of customers\r\n",
    "    book_id = random.randint(1, 521)      # Number of books\r\n",
    "    rating = random.randint(1, 10)\r\n",
    "    comments = None if random.random() < 0.2 else f\"Review for Book {book_id}\"\r\n",
    "    review_date = date.today() - timedelta(days=random.randint(1, 365))\r\n",
    "\r\n",
    "    print(f\"INSERT INTO reviews (customer_id, book_id, rating, comments, review_date) VALUES \"\r\n",
    "          f\"({customer_id}, {book_id}, {rating}, '{escape_quotes(comments)}', '{review_date}');\")', '{review_date}');\"), '{review_date}');\") ', '{review_date}');\")', '{review_date}');\")"
   ]
  },
  {
   "cell_type": "markdown",
   "id": "efe3d6cb-9064-406d-b17e-7235092756dd",
   "metadata": {},
   "source": [
    "Result:\n",
    "```sql\n",
    "INSERT INTO reviews (customer_id, book_id, rating, comments, review_date) VALUES (11, 350, 2, 'NULL', '2022-12-14');\n",
    "INSERT INTO reviews (customer_id, book_id, rating, comments, review_date) VALUES (56, 506, 8, 'NULL', '2023-01-30');\n",
    "INSERT INTO reviews (customer_id, book_id, rating, comments, review_date) VALUES (195, 141, 6, 'Review for Book 141', '2023-10-09');\n",
    "..."
   ]
  },
  {
   "cell_type": "markdown",
   "id": "cfb5c5c2-e144-42b8-82e8-b3cc205e76f7",
   "metadata": {},
   "source": [
    "### Inserting data directly in database with Python"
   ]
  },
  {
   "cell_type": "markdown",
   "id": "3ca9d385-4047-4fff-9413-a0d30f27555d",
   "metadata": {},
   "source": [
    "By making a connection in VS Code, I populated Orderitems and Orders with data by only writing Python code and executing it in my VS Code."
   ]
  },
  {
   "cell_type": "markdown",
   "id": "cf0fe7cc-1704-4b4b-b6dc-ca1f0752b08c",
   "metadata": {},
   "source": [
    "**Orders table**  \n",
    "In Orders table I had to use existing customer_id from Customers table and generate fictional orders who have predefined states - Shipped, Delivered, Pending and Cancelled. "
   ]
  },
  {
   "cell_type": "markdown",
   "id": "739c916e-ac3b-4efd-a2a2-a5523e4e3789",
   "metadata": {},
   "source": [
    "```python\n",
    "import random\r\n",
    "from datetime import date, timedelta\r\n",
    "import mysql.connector\r\n",
    "\r\n",
    "# Connect to your MySQL database\r\n",
    "conn = mysql.connector.connect(\r\n",
    "    host=\"localhost\",\r\n",
    "    user=\"root\",\r\n",
    "    password=\"\",\r\n",
    "    database=\"bookshopnearme\"\r\n",
    ")\r\n",
    "cursor = conn.cursor()\r\n",
    "\r\n",
    "# The number of records to generate\r\n",
    "num_records = 1000\r\n",
    "\r\n",
    "# A list of order statuses\r\n",
    "order_statuses = [\"Pending\", \"Shipped\", \"Cancelled\", \"Delivered\"]\r\n",
    "\r\n",
    "# Generate and insert random data\r\n",
    "for i in range(num_records):\r\n",
    "    customer_id = random.randint(1, 309)  # Assuming customer IDs start from 1\r\n",
    "    order_date = date.today() - timedelta(days=random.randint(1, 365))  # Orders from the last 365 days\r\n",
    "    order_status = random.choice(order_statuses)\r\n",
    "\r\n",
    "    # SQL query to insert data into the table\r\n",
    "    query = \"INSERT INTO orders (customer_id, order_date, status) VALUES (%s, %s, %s)\"\r\n",
    "    values = (customer_id, order_date, order_status)\r\n",
    "\r\n",
    "    cursor.execute(query, values)\r\n",
    "\r\n",
    "# Commit the changes and close the connection\r\n",
    "conn.commit()\r\n",
    "conn.close()()tion\r\n",
    "conn.commit()\r\n",
    "conn.close()"
   ]
  },
  {
   "cell_type": "markdown",
   "id": "bee245ee-02e9-45bf-93ae-f52100571302",
   "metadata": {},
   "source": [
    "Here I noticed that, as the data was randomly generated, there were too many orders with Pending, Cancelled ans Shipped statuses, which is just a sign of badly managed business, so I additionally wrote a code to Insert into the table some more order with exclusively Delivered status:"
   ]
  },
  {
   "cell_type": "markdown",
   "id": "5dfba0e9-55e2-411e-afdc-af9648006c18",
   "metadata": {},
   "source": [
    "```python\n",
    "import random\r\n",
    "from datetime import date, timedelta\r\n",
    "\r\n",
    "num_rows = 1300  # Number of rows to generate\r\n",
    "today = date.today()\r\n",
    "\r\n",
    "# Generate and print INSERT INTO queries\r\n",
    "for i in range(1, num_rows + 1):\r\n",
    "    customer_id = random.randint(1,309)  # Customer IDs from 1 to 309\r\n",
    "    status = 'Delivered'\r\n",
    "    random_days = random.randint(1, 800)\r\n",
    "    order_date = today - timedelta(days=random_days)\r\n",
    "    \r\n",
    "    insert_query = f\"INSERT INTO orders (customer_id, order_date, status) VALUES ({customer_id}, '{order_date}', '{status}');\"\r\n",
    "    print(insert_query)"
   ]
  },
  {
   "cell_type": "markdown",
   "id": "f46fcb9a-c012-4737-aded-7969d6dc573d",
   "metadata": {},
   "source": [
    "Result:\n",
    "```sql\n",
    "INSERT INTO orders (customer_id, order_date, status) VALUES (112, '2023-10-01', 'Delivered');\n",
    "INSERT INTO orders (customer_id, order_date, status) VALUES (222, '2023-01-18', 'Delivered');\n",
    "INSERT INTO orders (customer_id, order_date, status) VALUES (74, '2021-08-08', 'Delivered');\n",
    "..."
   ]
  },
  {
   "cell_type": "markdown",
   "id": "ccf7859f-028d-47f0-b23b-de019ec9aa14",
   "metadata": {},
   "source": [
    "**Orderitems table**  \n",
    "In Orderitems table I had to take in account two foreign keys - books_id and order_id"
   ]
  },
  {
   "cell_type": "markdown",
   "id": "7c6a0d69-b8cc-4dce-bacb-c7009e44a4af",
   "metadata": {},
   "source": [
    "```python\n",
    "import random\r\n",
    "import pymysql  \r\n",
    "\r\n",
    "# Establish a connection to the MySQL database\r\n",
    "connection = pymysql.connect(\r\n",
    "    host=\"localhost\",\r\n",
    "    user=\"root\",\r\n",
    "    password=\"\",\r\n",
    "    db=\"bookshopnearme\",\r\n",
    "    cursorclass=pymysql.cursors.DictCursor\r\n",
    ")\r\n",
    "\r\n",
    "try:\r\n",
    "    num_rows = 3010  # Number of rows to generate\r\n",
    "    cursor = connection.cursor()\r\n",
    "\r\n",
    "    for _ in range(num_rows):\r\n",
    "        order_id = random.randint(1, 2013)\r\n",
    "        book_id = random.randint(1, 521)\r\n",
    "        quantity = random.randint(1, 10)\r\n",
    "        price_per_book = round(random.uniform(1.0, 90.0), 2)\r\n",
    "        subtotal = round(quantity * price_per_book, 2)\r\n",
    "    \r\n",
    "        insert_query = f\"INSERT INTO orderitems (order_id, book_id, quantity, subtotal) VALUES ({order_id}, {book_id}, {quantity}, {subtotal});\"\r\n",
    "        cursor.execute(insert_query)\r\n",
    "\r\n",
    "    connection.commit()\r\n",
    "\r\n",
    "finally:\r\n",
    "    connection.close()e()ally:\r\n",
    "    connection.close()"
   ]
  }
 ],
 "metadata": {
  "kernelspec": {
   "display_name": "Python 3 (ipykernel)",
   "language": "python",
   "name": "python3"
  },
  "language_info": {
   "codemirror_mode": {
    "name": "ipython",
    "version": 3
   },
   "file_extension": ".py",
   "mimetype": "text/x-python",
   "name": "python",
   "nbconvert_exporter": "python",
   "pygments_lexer": "ipython3",
   "version": "3.11.5"
  }
 },
 "nbformat": 4,
 "nbformat_minor": 5
}
