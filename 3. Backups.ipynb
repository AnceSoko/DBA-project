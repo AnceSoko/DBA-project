{
 "cells": [
  {
   "cell_type": "markdown",
   "id": "5f5b5934-24a0-41b7-ae24-3fe436873ef5",
   "metadata": {},
   "source": [
    "# 3. Backups in MySQL"
   ]
  },
  {
   "cell_type": "markdown",
   "id": "ef751820-1e9c-4321-a912-32f50235cc19",
   "metadata": {},
   "source": [
    "In MySQL there are two primary ways to perform a backups: manual backups and automatic backups"
   ]
  },
  {
   "cell_type": "markdown",
   "id": "5071ba2b-bd30-4cdc-aa3d-0086240e5646",
   "metadata": {},
   "source": [
    "## Manual backups"
   ]
  },
  {
   "cell_type": "markdown",
   "id": "455dcaa9-db09-4966-9e48-17bb8eaa3c5b",
   "metadata": {},
   "source": [
    "Manual backups are initiated and executed by a database administrator. These backups are normally performed when necessary or on a scheduled basis, but requires manual intervention:"
   ]
  },
  {
   "cell_type": "markdown",
   "id": "1a70544c-ba56-414e-b64c-d185c8f967b7",
   "metadata": {},
   "source": [
    "### Logical Backup with `mysqldump` (Full Backup)"
   ]
  },
  {
   "cell_type": "markdown",
   "id": "499fd844-868b-4098-b92e-c3a8961d0f55",
   "metadata": {},
   "source": [
    "- `mysqldump` is a command-line utility that allows you to create logical backups of your MySQL database. These backups are typically in the form of SQL statements that can be used to recreate the database"
   ]
  },
  {
   "cell_type": "markdown",
   "id": "9cee2f99-5aa4-4ad8-864d-eafd294ef2fb",
   "metadata": {},
   "source": [
    "- To perform a full backup, you can use the following command in command line:"
   ]
  },
  {
   "cell_type": "markdown",
   "id": "8645d5cc-adf6-4d6c-b271-d51b98abdbbf",
   "metadata": {},
   "source": [
    "```bash\n",
    "mysqldump -u [username] -p[password] [database_name] > backup_file.sql\n",
    "```"
   ]
  },
  {
   "cell_type": "markdown",
   "id": "b55c0898-711a-4cf7-84be-a338c49c9ba9",
   "metadata": {},
   "source": [
    "You can also use options to customize the backup, such as specifying specific tables, excluding tables, or including the `--all-databases` option to back up all databases"
   ]
  },
  {
   "cell_type": "markdown",
   "id": "a0202d64-a9fc-42c0-b051-595b717b80b8",
   "metadata": {},
   "source": [
    "![Backup Photo](images/fullbackup.png)"
   ]
  },
  {
   "cell_type": "markdown",
   "id": "331aa234-ed0e-49ce-855b-57935d9571a4",
   "metadata": {},
   "source": [
    "To restore a `mysqldump` backup, you can use the `mysql` command. It is tipically done when you need to recreate a MySQL database or restore it to the previous state. Common scenarios when it might be needed:"
   ]
  },
  {
   "cell_type": "markdown",
   "id": "93b7588f-f674-4175-beb8-a3185c06775e",
   "metadata": {},
   "source": [
    "- **database recovery** - if the database becomes corrupted or data is accidentally deleted;"
   ]
  },
  {
   "cell_type": "markdown",
   "id": "7e8e50f2-b55b-44e0-aedb-978a38b6e6ec",
   "metadata": {},
   "source": [
    "- **database migration** - when you are moving your application to a new server or setting up a development or testing environment, you can use `mysqldump` backup to create a copy of the database on the new server;"
   ]
  },
  {
   "cell_type": "markdown",
   "id": "c70e461c-1492-455e-aaf9-9187789e5794",
   "metadata": {},
   "source": [
    "- **Point-in-Time recovery** - you can use this to restore the database to a specific point in time. This is very useful in scenarios where you need to roll back changes or recover data as it existed at a certain moment;"
   ]
  },
  {
   "cell_type": "markdown",
   "id": "253f3e42-8142-4a9c-b080-8872921c24b8",
   "metadata": {},
   "source": [
    "Execute the following code in command line:"
   ]
  },
  {
   "cell_type": "markdown",
   "id": "02627796-e57b-4912-916f-ded6e1c99de6",
   "metadata": {},
   "source": [
    "```bash\n",
    "mysql -u [username] -p[password] [database_name] < backup_file.sql\n",
    "```\r\n"
   ]
  },
  {
   "cell_type": "markdown",
   "id": "2f4d09d6-eaba-4e6e-9656-fa3eaa28929f",
   "metadata": {},
   "source": [
    "### Exporting from MySQL Workbench"
   ]
  },
  {
   "cell_type": "markdown",
   "id": "099b7e12-5028-4e43-8281-fdcd401b3f1e",
   "metadata": {},
   "source": [
    "Exporting data from MySQL Workbench is a convenient way to extract specific data or database objects from your MySQL database in various formats for purposes such as data transfer, data migration, data analysis, or generating data dumps. "
   ]
  },
  {
   "cell_type": "markdown",
   "id": "651d350a-60a2-4cd8-837f-e199a55b4f43",
   "metadata": {},
   "source": [
    "You can choose specific tables or database objects to export. MySQL Workbench allows you to select which data you want to include"
   ]
  },
  {
   "cell_type": "markdown",
   "id": "b16ce0bd-6880-46b4-af4f-e1f4d54f4861",
   "metadata": {},
   "source": [
    "![Backup Photo](images/dataexport.png)"
   ]
  },
  {
   "cell_type": "markdown",
   "id": "eb5ee8db-c643-4710-b39d-175bb34ea403",
   "metadata": {},
   "source": [
    "## Automatic backups"
   ]
  },
  {
   "cell_type": "markdown",
   "id": "e87a48d5-4516-402d-8513-8cae20039e34",
   "metadata": {},
   "source": [
    "Automatic backups are scheduled and executed by automated processes or backup software. These backups run at specified intervals without the need for manual intervention. "
   ]
  },
  {
   "cell_type": "markdown",
   "id": "6294ccdc-0e59-414b-868c-698560b8eddc",
   "metadata": {},
   "source": [
    "### Using Windows Task Scheduler"
   ]
  },
  {
   "cell_type": "markdown",
   "id": "cd2746dd-fa3b-4685-b714-7864e7fb913a",
   "metadata": {},
   "source": [
    "It is a convenient way to schedule automatic MySQL backups on a Windows server. You can set up a scheduled task to run a script or command that performs the backup at specified intervals. "
   ]
  },
  {
   "cell_type": "markdown",
   "id": "4653987b-a5bc-4539-9eef-ba7845e130f1",
   "metadata": {},
   "source": [
    "The scheduled task will execute the Windows batch script, creating MySQL backups on the defined schedule."
   ]
  },
  {
   "cell_type": "markdown",
   "id": "b339f73a-1123-4efd-8a87-a96aaa9754bb",
   "metadata": {},
   "source": [
    "Using Windows batch script that generates a timestamp and uses mysqldump to create a backup of a MySQL database. This script captures the current date and time to create a unique timestamp for the backup file."
   ]
  },
  {
   "cell_type": "markdown",
   "id": "cb543470-75f2-4763-be3b-01e97a268aeb",
   "metadata": {},
   "source": [
    "![Backup Image](images/codigoBackup.png)"
   ]
  },
  {
   "cell_type": "markdown",
   "id": "1a7a2301-d74e-4370-9c05-994666efefc1",
   "metadata": {},
   "source": [
    "It extracts the year, month, day, hour, and minute components from the date and time. It specifies the file path for the backup, incorporating the timestamp into the filename and it uses `mysqldump` to create a backup of the bookshopnearme database and saves it to the specified backup file."
   ]
  },
  {
   "cell_type": "markdown",
   "id": "36f1c617-33cc-4127-8b63-e44ef408db26",
   "metadata": {},
   "source": [
    "It can be executed by clicking on the .bat file or using command line:"
   ]
  },
  {
   "cell_type": "markdown",
   "id": "4a369be9-1aee-41ac-b4d0-fe630ee9de23",
   "metadata": {},
   "source": [
    "```bach\n",
    "cd C:\\Users\\Ance\\OneDrive\\Documents\\2023\\SQL\\proyecto final\\Bookshop Near Me\\backups\n",
    "\n",
    "backup.bat\n",
    "\n",
    "```\r\n",
    "\r\n"
   ]
  },
  {
   "cell_type": "markdown",
   "id": "04a29a8c-523d-4ce1-9c1f-24e2865e387e",
   "metadata": {},
   "source": [
    "Or it can be **scheduled** by using Task Scheduler:"
   ]
  },
  {
   "cell_type": "markdown",
   "id": "ccbc6d30-a9bc-4b43-b959-148c82184e0e",
   "metadata": {},
   "source": [
    "![Scheduled backup](images/taskSceduler.png)"
   ]
  }
 ],
 "metadata": {
  "kernelspec": {
   "display_name": "Python 3 (ipykernel)",
   "language": "python",
   "name": "python3"
  },
  "language_info": {
   "codemirror_mode": {
    "name": "ipython",
    "version": 3
   },
   "file_extension": ".py",
   "mimetype": "text/x-python",
   "name": "python",
   "nbconvert_exporter": "python",
   "pygments_lexer": "ipython3",
   "version": "3.11.5"
  }
 },
 "nbformat": 4,
 "nbformat_minor": 5
}
