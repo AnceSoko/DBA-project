{
 "cells": [
  {
   "cell_type": "markdown",
   "id": "bb8fe3a3-38df-4206-83f7-133cd6cec606",
   "metadata": {},
   "source": [
    "# 4. Salting"
   ]
  },
  {
   "cell_type": "markdown",
   "id": "d61ad872-6392-42e7-bdbe-9a500705718a",
   "metadata": {},
   "source": [
    "Implementing salting in the database for password storage involves generation of a unique random value (the salt) for each user, combining it with their password, and securely hashing the result.\n",
    "\n",
    "!!!Ensure you have a backup of your data before making changes to the database!!!"
   ]
  },
  {
   "cell_type": "markdown",
   "id": "f2d06fee-07c4-409a-a04f-184343ee346b",
   "metadata": {},
   "source": [
    "**Generate a salt:**\n",
    "- For each new user account, generate a cryptographically secure random salt. The salt should be long enough to provide sufficient randomness (usually at least 16 bytes).\n",
    "- A programming language's built-in cryptographic random number generator or a dedicated library can be used to generate a salt."
   ]
  },
  {
   "cell_type": "markdown",
   "id": "4076e840-749f-47ad-b469-8a24b809c690",
   "metadata": {},
   "source": [
    "**Combine salt with password:**\n",
    "- When a user creates an account or updates their password, the salt has to be combined with their password. This is often done by concatenating the salt and the password.\n",
    "- The combined value has to be used as input for the password hashing function."
   ]
  },
  {
   "cell_type": "markdown",
   "id": "c58c9a4c-308b-43ae-9066-0b5b62f3bc2b",
   "metadata": {},
   "source": [
    "**Hash with salt:**\n",
    "- Apply a strong, secure, and well-established hashing algorithm (e.g., bcrypt, Argon2) to the combined salt and password. Pass the salt and password combination through the hash function.\n",
    "- The output of this operation is the hashed password, which includes both the hash and the salt."
   ]
  },
  {
   "cell_type": "markdown",
   "id": "ab4707cc-dc4b-4155-80b1-529372bf81ce",
   "metadata": {},
   "source": [
    "**Store hash and salt:**\n",
    "- In the database, store the hashed password and the salt associated with each user. They should be stored in separate columns in the user's record."
   ]
  },
  {
   "cell_type": "markdown",
   "id": "68953884-280e-47c0-b423-9dc17b7545d2",
   "metadata": {},
   "source": [
    "**When a user logs in:**\n",
    "- Retrieve the salt associated with the user's account from the database.\n",
    "- Combine the entered password with the retrieved salt.\n",
    "- Hash the combined salt and password and compare it to the stored hash."
   ]
  },
  {
   "cell_type": "markdown",
   "id": "743f4788-9c91-45ef-9d4e-4c0b2139031e",
   "metadata": {},
   "source": [
    "### Add salt to existing passwords"
   ]
  },
  {
   "cell_type": "markdown",
   "id": "b1ee5f86-fb55-4bad-a099-7db0f66ce884",
   "metadata": {},
   "source": [
    "In many cases it can occur, that database already has passwords without applied salt, in this case we have to treat these passwords so they are up to date with the new security requirements."
   ]
  },
  {
   "cell_type": "markdown",
   "id": "8729c07f-de53-46b1-ae88-da99652ac081",
   "metadata": {},
   "source": [
    "1. Let`s make a new column in our Customers table where we will save the salt:"
   ]
  },
  {
   "cell_type": "markdown",
   "id": "ab8a50aa-38d3-45dc-b45b-b5cc9ee1ad3a",
   "metadata": {},
   "source": [
    "```sql\n",
    "ALTER TABLE customers\n",
    "ADD COLUMN salting varbinary(16);\n",
    "```"
   ]
  },
  {
   "cell_type": "markdown",
   "id": "5f7f5da5-4fa2-4cae-aec1-c467f5ee099f",
   "metadata": {},
   "source": [
    "**Varbinary(16)** is a common practice for security purposes i nthe context of password hashing. As a salt is a random value generated for each customer password entry by using fixed-lenght fields, we ensure that all the salt values are of the same lenght. This consistency in length makes it easy to manage and compare salt values across different records in the database. "
   ]
  },
  {
   "cell_type": "markdown",
   "id": "fa63df7b-6a41-4299-b8c8-223a878510fe",
   "metadata": {},
   "source": [
    "2. Generate a unique salt for each user:"
   ]
  },
  {
   "cell_type": "markdown",
   "id": "83cb0b95-c303-4708-8815-b920082135a1",
   "metadata": {},
   "source": [
    "```sql\n",
    "UPDATE customers SET salting= UNHEX(SUBSTRING(SHA2(UUID(), 256), 1, 32));\n",
    "```"
   ]
  },
  {
   "cell_type": "markdown",
   "id": "3ad6f209-0e78-45d8-9250-def3155d33b4",
   "metadata": {},
   "source": [
    "3. Combine the salt and existing password and hash them:"
   ]
  },
  {
   "cell_type": "markdown",
   "id": "edb187cd-6035-4a2f-9218-352f42f9878a",
   "metadata": {},
   "source": [
    "```sql\n",
    "UPDATE customers SET password = SHA2(CONCAT(salting, password), 256);\n",
    "```"
   ]
  },
  {
   "cell_type": "markdown",
   "id": "1cd636e0-09ee-4f08-9829-bbd1f1e55d05",
   "metadata": {},
   "source": [
    "4. Commit the changes:\n"
   ]
  },
  {
   "cell_type": "markdown",
   "id": "74c0ee68-843f-4b10-838e-c4530e9f96c7",
   "metadata": {},
   "source": [
    "```sql\n",
    "COMMIT;\n",
    "```"
   ]
  },
  {
   "cell_type": "markdown",
   "id": "45e0e05b-7c09-44ef-a661-0970bfeb7e10",
   "metadata": {},
   "source": [
    "### Creating a Trigger for new customer`s password"
   ]
  },
  {
   "cell_type": "markdown",
   "id": "cc567fba-bdbe-4379-a173-4fd59bd8ea81",
   "metadata": {},
   "source": [
    "Creating a Trigger can help automate the process and ensure that every new customer's password is properly salted and hashed when they are inserted into the `customers` table. "
   ]
  },
  {
   "cell_type": "markdown",
   "id": "88938a90-738c-459c-a902-9dfafc37f258",
   "metadata": {},
   "source": [
    "1. Create Trigger:\n",
    "- Define a `BEFORE INSERT` trigger that will be executed before a new customer is inserted into the `customers` table. This trigger will generate a unique salt, combine it with the password, hash the salted password, and then update the `NEW` values accordingly."
   ]
  },
  {
   "cell_type": "markdown",
   "id": "d04f745e-d4ee-4829-b490-8ee0c8a98f98",
   "metadata": {},
   "source": [
    "```sql\n",
    "DELIMITER //\n",
    "CREATE TRIGGER hashedPassword\n",
    "BEFORE INSERT ON customers\n",
    "FOR EACH ROW\n",
    "BEGIN\n",
    "    SET NEW.salt = UNHEX(SUBSTRING(SHA2(UUID(),256),1,32));\n",
    "    SET NEW.password = SHA2(CONCAT(NEW.salt, NEW.password),256);\n",
    "END;\n",
    "//\n",
    "DELIMITER ;"
   ]
  },
  {
   "cell_type": "markdown",
   "id": "f6829d04-80c5-4312-8191-0dae9d26ecec",
   "metadata": {},
   "source": [
    "The trigger calculates the salt and hashed password and updates the `NEW` values accordingly before insertion.\r\n"
   ]
  },
  {
   "cell_type": "markdown",
   "id": "1ac7f9a2-f8f5-4f58-97b0-53337ff1a684",
   "metadata": {},
   "source": [
    "2. Insert new customer:\n",
    "- When inserting a new customer into the `customers` table, the trigger will automatically generate the salt and hash the password for that customer."
   ]
  },
  {
   "cell_type": "markdown",
   "id": "55de1687-221f-44c5-ba0f-27dec3f94c10",
   "metadata": {},
   "source": [
    "```sql\n",
    "INSERT INTO customers (username, password) VALUES ('new_user', 'new_user_password');\n",
    "```"
   ]
  },
  {
   "cell_type": "markdown",
   "id": "8f2321fa-a895-45d6-8d30-2133f5255144",
   "metadata": {},
   "source": [
    "This trigger will ensure that every new customer's password is securely salted and hashed when they are added to the `customers` table."
   ]
  }
 ],
 "metadata": {
  "kernelspec": {
   "display_name": "Python 3 (ipykernel)",
   "language": "python",
   "name": "python3"
  },
  "language_info": {
   "codemirror_mode": {
    "name": "ipython",
    "version": 3
   },
   "file_extension": ".py",
   "mimetype": "text/x-python",
   "name": "python",
   "nbconvert_exporter": "python",
   "pygments_lexer": "ipython3",
   "version": "3.11.5"
  }
 },
 "nbformat": 4,
 "nbformat_minor": 5
}
