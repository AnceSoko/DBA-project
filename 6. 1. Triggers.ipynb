{
 "cells": [
  {
   "cell_type": "markdown",
   "id": "d4f58e1e-7b3f-49fc-adc1-babd06a45f22",
   "metadata": {},
   "source": [
    "# Triggers"
   ]
  },
  {
   "cell_type": "markdown",
   "id": "44b7335b-3647-4528-a657-abe903967133",
   "metadata": {},
   "source": [
    "A trigger in SQL is a predefined, automatic action or set of actions that are executed in response to a specific event on a database table. These events can be data modification operations, such as **INSERT, UPDATE, DELETE,** or even certain types of system events. Triggers are a part of DML."
   ]
  },
  {
   "cell_type": "markdown",
   "id": "77350e2b-c37d-4309-aa10-1f29b100823d",
   "metadata": {},
   "source": [
    "Triggers are typically defined using SQL statements and are attached to specific tables. When the specified triggering event occurs, the trigger's associated actions are executed. These actions can include executing SQL statements, invoking stored procedures, or performing other tasks, depending on the logic defined within the trigger."
   ]
  },
  {
   "cell_type": "markdown",
   "id": "39dc7ea0-3657-4665-8ca1-29d11ff91bbf",
   "metadata": {},
   "source": [
    "## AUTHORS table"
   ]
  },
  {
   "cell_type": "markdown",
   "id": "c8a33981-2d3e-4154-8a39-6b950f6d2461",
   "metadata": {},
   "source": [
    "### Trigger on `AFTER UPDATE`"
   ]
  },
  {
   "cell_type": "markdown",
   "id": "4101c2a0-f3d8-487a-9917-1b7ab61d70c9",
   "metadata": {},
   "source": [
    "This trigger is activated whenever there are done any changes to the data in the Authors table. Previous data is represented and next to the new, updated data is represented."
   ]
  },
  {
   "cell_type": "markdown",
   "id": "708cd1b8-129a-4f9f-9bcc-d613b5e4f638",
   "metadata": {},
   "source": [
    "```sql\n",
    "CREATE TABLE update_author (\n",
    "\tid INT PRIMARY KEY AUTO_INCREMENT,\n",
    "    user VARCHAR(255),\n",
    "    action VARCHAR(50),\n",
    "\told_data VARCHAR(255),\n",
    "    new_data VARCHAR(255),\n",
    "    created_at TIMESTAMP);"
   ]
  },
  {
   "cell_type": "markdown",
   "id": "22e0b428-abfa-4409-9888-8a8e5fdad0cc",
   "metadata": {},
   "source": [
    "```SQL\n",
    "DELIMITER //    \n",
    "CREATE TRIGGER tr_update_author\n",
    "AFTER UPDATE ON authors\n",
    "FOR EACH ROW\n",
    "BEGIN\n",
    "\tINSERT INTO update_author (user, action, old_data, new_data, created_at)\n",
    "    VALUES (user(), 'UPDATED', concat_ws(', ', old.author_name, old.birth_date, old.nationality), concat_ws(', ', new.author_name, new.birth_date, new.nationality), now());\n",
    "END//\n",
    "DELIMITER ;"
   ]
  },
  {
   "cell_type": "markdown",
   "id": "08a1d581-a3c3-4499-901e-78357144c2b2",
   "metadata": {},
   "source": [
    "Trying out the trigger:\n",
    "```sql\n",
    "UPDATE authors\n",
    "SET author_name = 'Elena Kalashnikov'\n",
    "WHERE authors_id = 4;"
   ]
  },
  {
   "cell_type": "markdown",
   "id": "9d595b15-2be9-4d12-9f7a-da5494c0ed4f",
   "metadata": {},
   "source": [
    "Result:"
   ]
  },
  {
   "cell_type": "markdown",
   "id": "d7ab9f81-166a-47a1-8a5c-b2208be3ec61",
   "metadata": {},
   "source": [
    "![update_author_photo](images\\update_author.png)"
   ]
  },
  {
   "cell_type": "markdown",
   "id": "44475f7a-7513-49f9-934f-d670e82bf7ce",
   "metadata": {},
   "source": [
    "### Trigger on `AFTER DELETE`"
   ]
  },
  {
   "cell_type": "markdown",
   "id": "5fab972d-5fa8-4c0d-b1c9-1e463be284ae",
   "metadata": {},
   "source": [
    "Also known as **Soft delete** has a lot of benefits especially in e-commerce world. Main reason for using soft delete trigger in my database is for data recovery. In case a record is deleted accidentally or maliciously, it can be restored because the record is not permanently removed from the database. This can be particularly important for retaining historical data. Soft delete allows for auditing and compliance purposes. By keeping a history of deleted records, organizations can track who deleted records and when they were deleted. Soft delete is useful for archiving and preserving historical data, like users or customers."
   ]
  },
  {
   "cell_type": "markdown",
   "id": "121c8ef1-af81-4114-ac4e-78577fba685c",
   "metadata": {},
   "source": [
    "```sql\n",
    "CREATE TABLE delete_author (\n",
    "\tid INT PRIMARY KEY AUTO_INCREMENT,\n",
    "    user VARCHAR(255),\n",
    "    action VARCHAR(50),\n",
    "    deleted_data VARCHAR(100),\n",
    "    deleted_at TIMESTAMP);"
   ]
  },
  {
   "cell_type": "markdown",
   "id": "45521507-1a9c-4ff2-84d3-956a8d26fb8c",
   "metadata": {},
   "source": [
    "```sql\n",
    "DELIMITER //\n",
    "CREATE TRIGGER tr_delete_author\n",
    "AFTER DELETE ON authors\n",
    "FOR EACH ROW\n",
    "BEGIN\n",
    "\tINSERT INTO delete_author(user, action, deleted_data, deleted_at)\n",
    "    VALUES (user(), 'DELETED', concat_ws(', ', old.author_name, old.birth_date, old.nationality), NOW());\n",
    "END//\n",
    "DELIMITER ;"
   ]
  },
  {
   "cell_type": "markdown",
   "id": "e20a0fd1-4eb8-462f-97e8-ed226a631410",
   "metadata": {},
   "source": [
    "```sql\n",
    "DELETE FROM authors\n",
    "WHERE authors_id = 219;\n"
   ]
  },
  {
   "cell_type": "markdown",
   "id": "5fe5abcf-66a4-4e39-b5e4-47f9ac888f0b",
   "metadata": {},
   "source": [
    "Result:"
   ]
  },
  {
   "cell_type": "markdown",
   "id": "2cb48e6c-8650-4ee7-9add-40d03a894978",
   "metadata": {},
   "source": [
    "![delete_author_photo](images\\delete_author.png)"
   ]
  },
  {
   "cell_type": "markdown",
   "id": "1b1c0c10-41e5-4411-a2d3-83388477dfda",
   "metadata": {},
   "source": [
    "## BOOKS table"
   ]
  },
  {
   "cell_type": "markdown",
   "id": "4d677273-0156-469f-954c-c0acfe7a3d56",
   "metadata": {},
   "source": [
    "The same logic I applied to Books table, as this is also a strong entity in my database, any change made to it should be tracked, for compliance and also historical purposes."
   ]
  },
  {
   "cell_type": "markdown",
   "id": "880f65ab-4cad-4a08-8afb-35f410936d31",
   "metadata": {},
   "source": [
    "### Trigger on `AFTER DELETE`"
   ]
  },
  {
   "cell_type": "markdown",
   "id": "3db9574d-f92e-4b53-924a-20870b7f4ddf",
   "metadata": {},
   "source": [
    "```SQL\n",
    "CREATE TABLE delete_book (\n",
    "\tid INT PRIMARY KEY AUTO_INCREMENT,\n",
    "    user VARCHAR(255),\n",
    "    action VARCHAR(50),\n",
    "    deleted_data VARCHAR(100),\n",
    "    deleted_at TIMESTAMP);"
   ]
  },
  {
   "cell_type": "markdown",
   "id": "1d668d84-6edd-4887-9e4b-183d7f10a0fa",
   "metadata": {},
   "source": [
    "```SQL\n",
    "DELIMITER //    \n",
    "CREATE TRIGGER tr_delete_book\n",
    "AFTER DELETE ON books\n",
    "FOR EACH ROW\n",
    "BEGIN\n",
    "\tINSERT INTO delete_book (user, action, deleted_data, deleted_at)\n",
    "    VALUES (user(), 'DELETED', concat_ws(', ', old.title, old.publication_date, old.ISBN, old.stock_quantity, old.avarage_rating, old.price), now());\n",
    "END//\n",
    "DELIMITER ;\n"
   ]
  },
  {
   "cell_type": "markdown",
   "id": "7afa51e5-2ada-466b-87b4-89c6abacd636",
   "metadata": {},
   "source": [
    "```SQL\n",
    "DELETE FROM books\n",
    "WHERE book_id = 160;\n"
   ]
  },
  {
   "cell_type": "markdown",
   "id": "8d14cb3f-fc3a-4e23-b1ad-8b47d29dec1a",
   "metadata": {},
   "source": [
    "Result:"
   ]
  },
  {
   "cell_type": "markdown",
   "id": "0ded88a3-e26d-47a0-a1ff-df0b747d4230",
   "metadata": {},
   "source": [
    "![delete_book_photo](images\\delete_book.png)"
   ]
  },
  {
   "cell_type": "markdown",
   "id": "e1115e41-cd9d-4af9-8bc3-0f808be12ebc",
   "metadata": {},
   "source": [
    "## Trigger on `AFTER UPDATE`"
   ]
  },
  {
   "cell_type": "markdown",
   "id": "dbe235d2-9b51-4f07-9be9-c929341aaf72",
   "metadata": {},
   "source": [
    "This trigger is used to send an alert to specified table whenever a book is low in stock. Like this it is easy to control which books needs to be restocked. I didn`t choose to use automatic restocking just in case Bookshop Near Me chooses not to continue a certain book."
   ]
  },
  {
   "cell_type": "markdown",
   "id": "db0a1900-2467-40b0-a8a4-8fea58c6a213",
   "metadata": {},
   "source": [
    "## CUSTOMERS table"
   ]
  },
  {
   "cell_type": "markdown",
   "id": "0de713b2-4a96-46ef-80e1-34d95440a177",
   "metadata": {},
   "source": [
    "### Trigger on `AFTER UPDATE`"
   ]
  },
  {
   "cell_type": "markdown",
   "id": "228b4152-c9be-490f-a20d-e8f93722a764",
   "metadata": {},
   "source": [
    "```SQL\n",
    "CREATE TABLE update_customer (\n",
    "\tid INT PRIMARY KEY AUTO_INCREMENT,\n",
    "    user VARCHAR(255),\n",
    "    action VARCHAR(50),\n",
    "\told_data VARCHAR(255),\n",
    "    new_data VARCHAR(255),\n",
    "    created_at TIMESTAMP);\n"
   ]
  },
  {
   "cell_type": "markdown",
   "id": "c4b691a7-b2dc-4285-bb5b-e9f9bc8ad969",
   "metadata": {},
   "source": [
    "```SQL\n",
    " DELIMITER //\n",
    "CREATE TRIGGER tr_update_customer\n",
    "AFTER UPDATE ON customers\n",
    "FOR EACH ROW\n",
    "BEGIN\n",
    "\tINSERT INTO update_customer (user, action, old_data, new_data, created_at)\n",
    "    VALUES(user(), 'UPDATED', CONCAT_WS(', ', OLD.first_name, old.last_name, old.phone, old.address, old.membership_status, old.country),\n",
    "\t\t\tconcat_ws(', ', new.first_name, new.last_name, new.phone, new.address, new.membership_status, new.country ), now());\n",
    " END//\n",
    " DELIMITER ;\n"
   ]
  },
  {
   "cell_type": "markdown",
   "id": "6fd668cd-6c5a-4ebc-9a68-4f38b97f18d4",
   "metadata": {},
   "source": [
    "```SQL\n",
    " UPDATE customers\n",
    "SET first_name = 'Ana'\n",
    "WHERE first_name = 'Ance';\n"
   ]
  },
  {
   "cell_type": "markdown",
   "id": "d64c9022-f3e6-4c8b-ad4b-bddbcddd12df",
   "metadata": {},
   "source": [
    "Result:"
   ]
  },
  {
   "cell_type": "markdown",
   "id": "86dd0799-2b46-4a6b-9572-a1f46335aeb0",
   "metadata": {},
   "source": [
    "![update_customers_photo](images\\update_customers.png)"
   ]
  },
  {
   "cell_type": "markdown",
   "id": "1e9ee460-8ac1-4fcb-ae07-f47206245c10",
   "metadata": {},
   "source": [
    "### Trigger on `AFTER DELETE`"
   ]
  },
  {
   "cell_type": "markdown",
   "id": "1df38b1c-6d73-472c-aa55-027cf51eee5d",
   "metadata": {},
   "source": [
    "```SQL\n",
    "CREATE TABLE delete_customer (\n",
    "\tid INT PRIMARY KEY AUTO_INCREMENT,\n",
    "    user VARCHAR(255),\n",
    "    action VARCHAR(50),\n",
    "    deleted_data VARCHAR(100),\n",
    "    deleted_at TIMESTAMP);\n"
   ]
  },
  {
   "cell_type": "markdown",
   "id": "b4e2f0f9-af81-4f57-9a1e-c5dca5aef1f3",
   "metadata": {},
   "source": [
    "```SQL\n",
    "DELIMITER //    \n",
    "CREATE TRIGGER tr_delete_customer\n",
    "AFTER DELETE ON customers\n",
    "FOR EACH ROW\n",
    "BEGIN\n",
    "\tINSERT INTO delete_customer (user, action, deleted_data, deleted_at)\n",
    "    VALUES (user(), 'DELETED', concat_ws(', ', old.first_name, old.last_name, old.phone, old.address, old.membership_status, old.country), now());\n",
    "END//\n",
    "DELIMITER ;\n"
   ]
  },
  {
   "cell_type": "markdown",
   "id": "622944e7-eb92-41b1-9691-6c44ced9325b",
   "metadata": {},
   "source": [
    "```SQL\n",
    "DELETE FROM customers\n",
    "WHERE customer_id = 310;\n"
   ]
  },
  {
   "cell_type": "markdown",
   "id": "adb809c7-7e92-4308-af6f-f96c59aa4056",
   "metadata": {},
   "source": [
    "Result:"
   ]
  },
  {
   "cell_type": "markdown",
   "id": "4434fe64-b81f-4f55-92bc-75c390a0d80c",
   "metadata": {},
   "source": [
    "![delete_customers_photo](images\\delete_customers.png)"
   ]
  },
  {
   "cell_type": "markdown",
   "id": "10985308-d71d-4fb6-a60a-780ca15eae9f",
   "metadata": {},
   "source": [
    "## LOYALTY POINTS table"
   ]
  },
  {
   "cell_type": "markdown",
   "id": "5fe36727-1960-4ca1-bb55-f4f34cbf7e7c",
   "metadata": {},
   "source": [
    "For this table I made a trigger that affects membership status in Customers table. It sums up loyalty points fro specific customer and depending on the amount of loyalty points, membership status is affected or no. "
   ]
  },
  {
   "cell_type": "markdown",
   "id": "dc2deb2e-140e-45bc-bb58-4f1b847913b3",
   "metadata": {},
   "source": [
    "```sql\n",
    "DELIMITER //\n",
    "CREATE TRIGGER update_membership_status \n",
    "AFTER UPDATE ON loyaltypoints\n",
    "FOR EACH ROW\n",
    "BEGIN\n",
    "    DECLARE loyalty_points INT;\n",
    "\n",
    "    SELECT points_earned INTO loyalty_points -- Get the loyalty points earned by the customer \n",
    "    FROM loyaltypoints\n",
    "    WHERE customer_id = NEW.customer_id;\n",
    "\n",
    "    IF loyalty_points >= 1 AND loyalty_points < 100 THEN -- Update the membership status in the customers table\n",
    "        UPDATE customers\n",
    "        SET membership_status = 'Standard'\n",
    "        WHERE customer_id = NEW.customer_id;\n",
    "    ELSEIF loyalty_points >= 100 AND loyalty_points < 500 THEN \n",
    "        UPDATE customers\n",
    "        SET membership_status = 'Premium'\n",
    "        WHERE customer_id = NEW.customer_id;\n",
    "    ELSEIF loyalty_points >= 500 THEN\n",
    "        UPDATE customers\n",
    "        SET membership_status = 'VIP'\n",
    "        WHERE customer_id = NEW.customer_id;\n",
    "    END IF;\n",
    "END//\n",
    "DELIMITER ;\n"
   ]
  },
  {
   "cell_type": "markdown",
   "id": "c70222c0-60eb-4163-bd1d-9af91f368e30",
   "metadata": {},
   "source": [
    "```sql\n",
    "UPDATE loyaltypoints\n",
    "SET points_earned = 101\n",
    "WHERE loyalty_id = 16;\n"
   ]
  },
  {
   "cell_type": "markdown",
   "id": "44b20076-1425-4581-9f79-fc134ab05b58",
   "metadata": {},
   "source": [
    "The changes are reflected in update_customers table"
   ]
  },
  {
   "cell_type": "markdown",
   "id": "7250ef5b-e0be-476c-8453-46f0807c447d",
   "metadata": {},
   "source": [
    "![loyaltypoints_update](images\\update_customers.png)"
   ]
  },
  {
   "cell_type": "markdown",
   "id": "d89344e0-aa9d-45ad-a837-634ce838f568",
   "metadata": {},
   "source": [
    "## REVIEWS table"
   ]
  },
  {
   "cell_type": "markdown",
   "id": "d83d60f5-1885-40a1-81e8-fb9bd5a07604",
   "metadata": {},
   "source": [
    "### Trigger on `AFTER INSERT`"
   ]
  },
  {
   "cell_type": "markdown",
   "id": "ad5af092-23be-4be6-89e6-279fd9ace56f",
   "metadata": {},
   "source": [
    "Create a trigger whenever a new review is inserted in Reviews table, it affects avarage_rating in Books table. Have to take in account that in Books table, avarage rating is in scalle of 1 - 5, but in Reviews table rating is in the scale of 1 - 10. "
   ]
  },
  {
   "cell_type": "markdown",
   "id": "e9594499-f78c-47da-94d2-7fb8cc2002a6",
   "metadata": {},
   "source": [
    "```sql\n",
    "DELIMITER //\n",
    "CREATE TRIGGER update_avarage_rating\n",
    "AFTER INSERT ON reviews\n",
    "FOR EACH ROW\n",
    "BEGIN\n",
    "    DECLARE total_ratings INT;\n",
    "    DECLARE total_rating_sum DECIMAL(10, 2);\n",
    "    DECLARE new_average_rating DECIMAL(3, 2);\n",
    "    \n",
    "    SELECT COUNT(*) INTO total_ratings -- Calculate the total number of ratings for the book\n",
    "    FROM reviews\n",
    "    WHERE book_id = NEW.book_id;\n",
    "    \n",
    "    SELECT SUM(rating) INTO total_rating_sum -- Calculate the sum of all ratings for the book\n",
    "    FROM reviews\n",
    "    WHERE book_id = NEW.book_id;\n",
    "    \n",
    "    SET total_rating_sum = (total_rating_sum / total_ratings) * 0.5; -- Scale the total_rating_sum to a maximum of 5\n",
    "    \n",
    "    UPDATE books -- Update the book table with the new average rating\n",
    "    SET avarage_rating = total_rating_sum\n",
    "    WHERE book_id = NEW.book_id;\n",
    "END//\n",
    "DELIMITER ;\n"
   ]
  },
  {
   "cell_type": "markdown",
   "id": "ac1b117d-3b38-42f2-aedc-53fe8f40f173",
   "metadata": {},
   "source": [
    "Inserting two new reviews to see if the avarage_rating is really changing:\n",
    "```sql\n",
    "INSERT INTO reviews(customer_id, book_id, rating, comments, review_date)\n",
    "VALUES(5, 2, 10, 'A great trip into unknown' ,now());\n",
    "\n",
    "INSERT INTO reviews(customer_id, book_id, rating, comments, review_date)\n",
    "VALUES(6, 2, 1, 'Not worth your time' ,'023-10-24');\n"
   ]
  },
  {
   "cell_type": "markdown",
   "id": "b32fb231-663d-491b-9b62-815cacfafa2e",
   "metadata": {},
   "source": [
    "## USERS table"
   ]
  },
  {
   "cell_type": "markdown",
   "id": "07c4ebf3-aebe-4181-8ef2-4f86ee554bd2",
   "metadata": {},
   "source": [
    "### Trigger on `AFTER UPDATE`"
   ]
  },
  {
   "cell_type": "markdown",
   "id": "37f330ac-8cb1-4be0-9b4b-2874ea4fc7fd",
   "metadata": {},
   "source": [
    "```SQL\n",
    "CREATE TABLE update_user (\n",
    "\tid INT PRIMARY KEY AUTO_INCREMENT,\n",
    "    user VARCHAR(255),\n",
    "    action VARCHAR(50),\n",
    "\told_data VARCHAR(255),\n",
    "    new_data VARCHAR(255),\n",
    "    updated_at TIMESTAMP\n",
    "    );\n"
   ]
  },
  {
   "cell_type": "markdown",
   "id": "56ddbc05-44da-443e-9df8-2e7c3c5636f5",
   "metadata": {},
   "source": [
    "```SQL\n",
    "DELIMITER //\n",
    "CREATE TRIGGER tr_update_user\n",
    "AFTER UPDATE ON users\n",
    "FOR EACH ROW\n",
    "BEGIN\n",
    "\tINSERT INTO update_user (user, action, old_data, new_data, updated_at)\n",
    "    VALUES(user(), 'UPDATED', CONCAT_WS(', ', OLD.email, old.password),\n",
    "\t\t\tconcat_ws(', ', new.email, new.password), now());\n",
    " END//\n",
    " DELIMITER ;\n"
   ]
  },
  {
   "cell_type": "markdown",
   "id": "1e0d75e5-5ef1-47fb-b81d-ead04572d8b6",
   "metadata": {},
   "source": [
    "```SQL\n",
    "UPDATE users\n",
    "SET email = 'ancstridsoko@example.com'\n",
    "WHERE user_id =309;"
   ]
  },
  {
   "cell_type": "markdown",
   "id": "7a47e086-e2bf-4efa-8e9a-fc9ff55cd8bd",
   "metadata": {},
   "source": [
    "Result:"
   ]
  },
  {
   "cell_type": "markdown",
   "id": "39105306-4468-4bca-a9d4-852a5fd5e8b7",
   "metadata": {},
   "source": [
    "![update_user_photo](images\\update_user.png)"
   ]
  },
  {
   "cell_type": "markdown",
   "id": "1074496a-ead5-4fe3-a3bb-2ece0fa7b6cb",
   "metadata": {},
   "source": [
    "### Trigger on `AFTER DELETE`"
   ]
  },
  {
   "cell_type": "markdown",
   "id": "8d4822f0-ed18-4777-b3d0-723f2e81d90f",
   "metadata": {},
   "source": [
    "```SQL\n",
    "CREATE TABLE delete_user (\n",
    "\tid INT PRIMARY KEY AUTO_INCREMENT,\n",
    "    user VARCHAR(255),\n",
    "    action VARCHAR(50),\n",
    "    deleted_data VARCHAR(100),\n",
    "    deleted_at TIMESTAMP);\n"
   ]
  },
  {
   "cell_type": "markdown",
   "id": "1f4e87d6-6281-4d50-a33b-16b230ee2a6d",
   "metadata": {},
   "source": [
    "```SQL\n",
    "DELIMITER //    \n",
    "CREATE TRIGGER tr_delete_user\n",
    "AFTER DELETE ON users\n",
    "FOR EACH ROW\n",
    "BEGIN\n",
    "\tINSERT INTO delete_user (user, action, deleted_data, deleted_at)\n",
    "    VALUES (user(), 'DELETED', concat_ws(', ', old.email, old.customer_id), now());\n",
    "END//\n",
    "DELIMITER ;\n"
   ]
  },
  {
   "cell_type": "markdown",
   "id": "0ea39d16-9f0f-49b7-9fa6-0f68ad5bea65",
   "metadata": {},
   "source": [
    "```SQL\n",
    "DELETE FROM users\n",
    "WHERE user_id = 309;\n"
   ]
  },
  {
   "cell_type": "markdown",
   "id": "ae917b19-a087-4776-b8cf-e0623fcfcc78",
   "metadata": {},
   "source": [
    "Result:"
   ]
  },
  {
   "cell_type": "markdown",
   "id": "6860643e-deeb-4fc6-ba6c-006a2468b812",
   "metadata": {},
   "source": [
    "![delete_user_photo](images\\delete_user.png)"
   ]
  },
  {
   "cell_type": "markdown",
   "id": "c9f61eb3-9167-4036-9a61-313383f73fc8",
   "metadata": {},
   "source": [
    "## ORDER ITEMS table"
   ]
  },
  {
   "cell_type": "markdown",
   "id": "a83a4780-2abb-4eb7-a9e5-325a79447910",
   "metadata": {},
   "source": [
    "### Trigger on `AFTER INSERT`"
   ]
  },
  {
   "cell_type": "markdown",
   "id": "17a94651-ec32-4348-9c65-30cb1d0c0194",
   "metadata": {},
   "source": [
    "Order Items is a table that is located between entity Books and entity Orders. Order Items in my database is used to list all the items in the Order, their quantity in order and subtotal. It is an optimal way to avoid data redundancy and an easy way to manage the inventory for Books."
   ]
  },
  {
   "cell_type": "markdown",
   "id": "dcc0656b-342f-4bda-a121-5a9b0aa973b2",
   "metadata": {},
   "source": [
    "This trigger was made to affect Books table stock_quantity column, whenever in Order Items table a specific book appears and it`s quantity of how many copies of that specific book has been bought in that specific order, that affects the total amount of stock_quantity in Books table."
   ]
  },
  {
   "cell_type": "markdown",
   "id": "ae468443-3ad2-4cbc-a246-b5665da8777c",
   "metadata": {},
   "source": [
    "```sql\n",
    "DELIMITER //\n",
    "CREATE TRIGGER update_stock_quantity\n",
    "AFTER INSERT ON orderitems\n",
    "FOR EACH ROW\n",
    "BEGIN\n",
    "    DECLARE book_stock INT;\n",
    "    \n",
    "    SELECT stock_quantity INTO book_stock -- Get the current stock_quantity of the book\n",
    "    FROM books\n",
    "    WHERE book_id = NEW.book_id;\n",
    "    \n",
    "    UPDATE books -- Update the stock_quantity\n",
    "    SET stock_quantity = book_stock - NEW.quantity\n",
    "    WHERE book_id = NEW.book_id;\n",
    "END//\n",
    "DELIMITER ;\n"
   ]
  },
  {
   "cell_type": "markdown",
   "id": "d079b459-f990-498f-93ac-b158ca9b87fa",
   "metadata": {},
   "source": [
    "```sql\n",
    "INSERT INTO orderitems(order_id, book_id, quantity, subtotal)\n",
    "VALUES(2013, 1, 1, 54.08);\n"
   ]
  }
 ],
 "metadata": {
  "kernelspec": {
   "display_name": "Python 3 (ipykernel)",
   "language": "python",
   "name": "python3"
  },
  "language_info": {
   "codemirror_mode": {
    "name": "ipython",
    "version": 3
   },
   "file_extension": ".py",
   "mimetype": "text/x-python",
   "name": "python",
   "nbconvert_exporter": "python",
   "pygments_lexer": "ipython3",
   "version": "3.11.5"
  }
 },
 "nbformat": 4,
 "nbformat_minor": 5
}
