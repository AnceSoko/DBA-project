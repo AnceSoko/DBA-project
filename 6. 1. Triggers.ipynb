{
 "cells": [
  {
   "cell_type": "markdown",
   "id": "d4f58e1e-7b3f-49fc-adc1-babd06a45f22",
   "metadata": {},
   "source": [
    "# Triggers"
   ]
  },
  {
   "cell_type": "markdown",
   "id": "44b7335b-3647-4528-a657-abe903967133",
   "metadata": {},
   "source": [
    "A trigger in SQL is a predefined, automatic action or set of actions that are executed in response to a specific event on a database table. These events can be data modification operations, such as **INSERT, UPDATE, DELETE,** or even certain types of system events. Triggers are a part of DML."
   ]
  },
  {
   "cell_type": "markdown",
   "id": "77350e2b-c37d-4309-aa10-1f29b100823d",
   "metadata": {},
   "source": [
    "Triggers are typically defined using SQL statements and are attached to specific tables. When the specified triggering event occurs, the trigger's associated actions are executed. These actions can include executing SQL statements, invoking stored procedures, or performing other tasks, depending on the logic defined within the trigger."
   ]
  },
  {
   "cell_type": "markdown",
   "id": "c6c27341-1fd3-4e85-8906-bc40f0508ff3",
   "metadata": {},
   "source": [
    "For your interest, I am not a big fan of triggers. They are automated actions which can be a good and a bad thing at the same time. I do believe that triggers are useful for very common, small impact things, like for example, in Bookshop Near Me database, trigger is activadet whenever specific amount of loyalty points is reached and from there a membership status must be changed for the corresponding customer. I personally prefer working with stored procedures."
   ]
  },
  {
   "cell_type": "markdown",
   "id": "1b1c0c10-41e5-4411-a2d3-83388477dfda",
   "metadata": {},
   "source": [
    "## LOYALTY POINTS table"
   ]
  },
  {
   "cell_type": "markdown",
   "id": "4d677273-0156-469f-954c-c0acfe7a3d56",
   "metadata": {},
   "source": [
    "Create a trigger that sums loyalty points to a specific customer (if it exists) and sets the transaction date to \r\n",
    "current date (the date when the transaction is made), if the customer is new (does not exist already in my loyaltypoints\r\n",
    "table) then create a new register with the new customer and start summing its loyalty points.\r\n"
   ]
  },
  {
   "cell_type": "markdown",
   "id": "09809c4e-4c4d-498e-8d13-4e75a4340c53",
   "metadata": {},
   "source": [
    "**Trigger to update existing membership status for customer**\n",
    "```SQL\n",
    "-- Create a trigger to update membership status\n",
    "CREATE TRIGGER update_membership_status\n",
    "AFTER UPDATE ON loyaltypoints\n",
    "FOR EACH ROW\n",
    "BEGIN\n",
    "    DECLARE loyalty_points INT;\n",
    "\n",
    "    -- Get the loyalty points earned by the customer\n",
    "    SELECT points_earned INTO loyalty_points\n",
    "    FROM loyaltypoints\n",
    "    WHERE customer_id = NEW.customer_id;\n",
    "\n",
    "    IF loyalty_points >= 1 AND loyalty_points < 100 THEN\n",
    "        -- Update the membership status in the customers table\n",
    "        UPDATE customers\n",
    "        SET membership_status = 'Standard'\n",
    "        WHERE customer_id = NEW.customer_id;\n",
    "    ELSEIF loyalty_points >= 100 AND loyalty_points < 500 THEN\n",
    "        UPDATE customers\n",
    "        SET membership_status = 'Premium'\n",
    "        WHERE customer_id = NEW.customer_id;\n",
    "    ELSEIF loyalty_points >= 500 THEN\n",
    "        UPDATE customers\n",
    "        SET membership_status = 'VIP'\n",
    "        WHERE customer_id = NEW.customer_id;\n",
    "    END IF;\n",
    "END\n",
    "//\n",
    "\n",
    "DELIMITER ;\n"
   ]
  },
  {
   "cell_type": "markdown",
   "id": "e636daef-2efd-4a14-ae40-045279624296",
   "metadata": {},
   "source": [
    "**Insert a newly gained membership status for customer**\n",
    "```sql\n",
    "DELIMITER //\n",
    "CREATE TRIGGER insert_membership_status\n",
    "AFTER INSERT ON loyaltypoints\n",
    "FOR EACH ROW\n",
    "BEGIN\n",
    "    DECLARE earnedPoints INT;\n",
    "    DECLARE customerMembershipStatus VARCHAR(20);\n",
    "\n",
    "    -- Get the loyalty points earned by the customer\n",
    "    SELECT NEW.points_earned INTO earnedPoints;\n",
    "\n",
    "    -- Determine the new membership status based on loyalty points\n",
    "    CASE\n",
    "        WHEN earnedPoints >= 1 AND earnedPoints < 100 THEN\n",
    "            SET customerMembershipStatus = 'Standard';\n",
    "        WHEN earnedPoints >= 100 AND earnedPoints < 500 THEN\n",
    "            SET customerMembershipStatus = 'Premium';\n",
    "        WHEN earnedPoints >= 500 THEN\n",
    "            SET customerMembershipStatus = 'VIP';\n",
    "        ELSE\n",
    "            SET customerMembershipStatus = NULL; -- Default status if points not in range\n",
    "    END CASE;\n",
    "\n",
    "    -- Update the membership status in the customers table\n",
    "    UPDATE customers\n",
    "    SET membership_status = customerMembershipStatus\n",
    "    WHERE customer_id = NEW.customer_id;\n",
    "END;\n",
    "//\n",
    "DELIMITER ;\n"
   ]
  },
  {
   "cell_type": "markdown",
   "id": "d89344e0-aa9d-45ad-a837-634ce838f568",
   "metadata": {},
   "source": [
    "## REVIEWS table"
   ]
  },
  {
   "cell_type": "markdown",
   "id": "d83d60f5-1885-40a1-81e8-fb9bd5a07604",
   "metadata": {},
   "source": [
    "### Trigger on `AFTER INSERT`"
   ]
  },
  {
   "cell_type": "markdown",
   "id": "e9594499-f78c-47da-94d2-7fb8cc2002a6",
   "metadata": {},
   "source": [
    "Create a trigger after a review is inserted for specific book\n",
    "```sql\n",
    "DELIMITER //\n",
    "CREATE TRIGGER update_average_rating\n",
    "AFTER INSERT ON reviews\n",
    "FOR EACH ROW\n",
    "BEGIN\n",
    "    DECLARE total_ratings INT;\n",
    "    DECLARE total_rating_sum DECIMAL(10, 2);\n",
    "    DECLARE new_average_rating DECIMAL(3, 1);\n",
    "\n",
    "    -- Calculate the total number of ratings for the book\n",
    "    SELECT COUNT(*) INTO total_ratings\n",
    "    FROM reviews\n",
    "    WHERE book_id = NEW.book_id;\n",
    "\n",
    "    -- Calculate the sum of all ratings for the book\n",
    "    SELECT SUM(LEAST(NEW.rating, 5)) INTO total_rating_sum\n",
    "    FROM reviews\n",
    "    WHERE book_id = NEW.book_id;\n",
    "\n",
    "    -- Calculate the new average rating, ensuring it's between 1 and 5\n",
    "    IF total_ratings = 0 THEN\n",
    "        SET new_average_rating = 0;  -- Handle the case when there are no reviews yet.\n",
    "    ELSE\n",
    "        SET new_average_rating = LEAST((total_rating_sum / total_ratings), 5);\n",
    "    END IF;\n",
    "\n",
    "    -- Update the book table with the new average rating\n",
    "    UPDATE books\n",
    "    SET avarage_rating = new_average_rating\n",
    "    WHERE book_id = NEW.book_id;\n",
    "END\n",
    "//\n",
    "\n",
    "DELIMITER ;\n"
   ]
  },
  {
   "cell_type": "markdown",
   "id": "b32fb231-663d-491b-9b62-815cacfafa2e",
   "metadata": {},
   "source": [
    "## USERS table"
   ]
  },
  {
   "cell_type": "markdown",
   "id": "07fd4660-045e-460b-a75e-7a6abc9b8963",
   "metadata": {},
   "source": [
    "Create a trigger whenever a new user is created - before insert - so it's password is hashed\n",
    "```sql\n",
    "DELIMITER //\n",
    "CREATE TRIGGER hashedPassword\n",
    "BEFORE INSERT ON users\n",
    "FOR EACH ROW\n",
    "BEGIN\n",
    "    SET NEW.salting = UNHEX(SUBSTRING(SHA2(UUID(),256),1,32));\n",
    "    SET NEW.password = SHA2(CONCAT(NEW.salting, NEW.password),256);\n",
    "END;\n",
    "//\n",
    "DELIMITER ;\n"
   ]
  },
  {
   "cell_type": "markdown",
   "id": "c9f61eb3-9167-4036-9a61-313383f73fc8",
   "metadata": {},
   "source": [
    "## ORDER ITEMS table"
   ]
  },
  {
   "cell_type": "markdown",
   "id": "17a94651-ec32-4348-9c65-30cb1d0c0194",
   "metadata": {},
   "source": [
    "Creating a trigger that whenever a new orderitem is inserted with specific book quantity in it, it is substracted from books table stock_quantity"
   ]
  },
  {
   "cell_type": "markdown",
   "id": "867ad466-bdc7-4187-9743-f36a1dca453d",
   "metadata": {},
   "source": [
    "```sql\n",
    "DELIMITER //\n",
    "\n",
    "CREATE TRIGGER update_stock_quantity\n",
    "AFTER INSERT ON orderitems\n",
    "FOR EACH ROW\n",
    "BEGIN\n",
    "    DECLARE book_stock INT;\n",
    "    \n",
    "    -- Get the current stock_quantity of the book\n",
    "    SELECT stock_quantity INTO book_stock\n",
    "    FROM books\n",
    "    WHERE book_id = NEW.book_id;\n",
    "    \n",
    "    -- Update the stock_quantity\n",
    "    UPDATE books\n",
    "    SET stock_quantity = book_stock - NEW.quantity\n",
    "    WHERE book_id = NEW.book_id;\n",
    "END;\n",
    "//\n",
    "\n",
    "DELIMITER ;\n"
   ]
  }
 ],
 "metadata": {
  "kernelspec": {
   "display_name": "Python 3 (ipykernel)",
   "language": "python",
   "name": "python3"
  },
  "language_info": {
   "codemirror_mode": {
    "name": "ipython",
    "version": 3
   },
   "file_extension": ".py",
   "mimetype": "text/x-python",
   "name": "python",
   "nbconvert_exporter": "python",
   "pygments_lexer": "ipython3",
   "version": "3.11.5"
  }
 },
 "nbformat": 4,
 "nbformat_minor": 5
}
