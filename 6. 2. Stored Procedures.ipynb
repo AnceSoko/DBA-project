{
 "cells": [
  {
   "cell_type": "markdown",
   "id": "c9f0df24-64b0-4bfd-8d7c-6936e4978811",
   "metadata": {},
   "source": [
    "# 6.2. Stored Procedures"
   ]
  },
  {
   "cell_type": "markdown",
   "id": "67811693-6c30-41c1-81b8-f748906fea5c",
   "metadata": {},
   "source": [
    "An SQL stored procedure is a group of pre-compiled SQL statements (prepared SQL code) that can be reused by simply calling it whenever needed.  \n",
    "It can be used to perform a wide range of database operations such as inserting, updating, or deleting data, generating reports, and performing complex calculations. Stored procedures are very useful because they allow you to encapsulate (bundle) a set of SQL statements as a single unit and execute them repeatedly with different parameters, making it easy to manage and reuse the code."
   ]
  },
  {
   "cell_type": "markdown",
   "id": "1279ebd0-e527-4b06-845f-347f1a3a7529",
   "metadata": {},
   "source": [
    "Stored procedures can contain a combination of DDL and DML statements, as well as control structures and other programming constructs."
   ]
  },
  {
   "cell_type": "markdown",
   "id": "a6751100-c316-4cb1-8a9f-fe704aed5567",
   "metadata": {},
   "source": [
    "### Syntax:"
   ]
  },
  {
   "cell_type": "markdown",
   "id": "d67814c1-22b5-49d4-881f-67b5cda30c92",
   "metadata": {},
   "source": [
    "```sql\n",
    "DELIMITER //\n",
    "CREATE PROCEDURE procedure_name (\n",
    "    IN parameter1 datatype, -- optional\n",
    "    IN parameter2 datatype,\n",
    "    IN parameter3 datatype\n",
    "    )\n",
    "BEGIN \n",
    "    --SQL statement to be executed when the SP is called\n",
    "    --\n",
    "    --\n",
    "END //\n",
    "DELIMITER ;"
   ]
  },
  {
   "cell_type": "markdown",
   "id": "814a4158-9f69-4675-916a-20ef63663714",
   "metadata": {},
   "source": [
    "-- Setting a delimiter in SP, when using MySQL is neccessary because the semicolon (;) is often used as a statement terminator to indicate the end of a SQL statement. However, when defining stored procedures, you may encounter situations where the default statement terminator conflicts with the semicolons used within the body of the procedure. Developers use the `DELIMITER` statement to temporarily change the statement terminator to a different character. This allows the definition of the stored procedure to contain semicolons without prematurely ending the SQL statement."
   ]
  },
  {
   "cell_type": "markdown",
   "id": "7cca70fa-342a-44f0-9f42-12cafed5a6e9",
   "metadata": {},
   "source": [
    "### Advantages of Stored Procedures"
   ]
  },
  {
   "cell_type": "markdown",
   "id": "1c79efa5-5924-4166-9180-53818da11f8d",
   "metadata": {},
   "source": [
    "**Improved performance:** Stored procedures are pre-compiled and stored on the server, so they can be executed more quickly than SQL statements that are sent from client applications.  \n",
    "**Code reuse:** Stored procedures are pre-compiled and stored on the server, so they can be executed more quickly than SQL statements that are sent from client applications.  \n",
    "**Reduced Network Traffic:** Because stored procedures are executed on the server, only the results are returned to the client, which reduces network traffic and improves application performance.  \n",
    "**Better Security:** Stored procedures can be used to enforce security rules and prevent unauthorized access to sensitive data. They can also limit the actions that can be performed by users, making it easier to maintain data integrity and consistency.  \n",
    "**Simplified maintenance:** By storing SQL code in a single location, it becomes easier to maintain and update the code. This makes it easier to fix bugs, add new functionality, and optimize performance."
   ]
  },
  {
   "cell_type": "markdown",
   "id": "4c509507-36ae-44b8-bcbf-7067fff83e15",
   "metadata": {
    "jp-MarkdownHeadingCollapsed": true
   },
   "source": [
    "## Stored Procedures for creating new records"
   ]
  },
  {
   "cell_type": "markdown",
   "id": "222dd78b-0e0c-4b8a-a495-23a607b0158d",
   "metadata": {},
   "source": [
    "Creating a simple stored procedure(SP) that at the same time creates a new user and customer. The idea behind this SP is simple, a person wants to register in a webage in order to buy goods."
   ]
  },
  {
   "cell_type": "markdown",
   "id": "b458cd46-7c21-44f7-8cd9-61dea830ebe9",
   "metadata": {},
   "source": [
    "```sql\n",
    "DELIMITER // \n",
    "CREATE PROCEDURE ceate_user_and_customer(\n",
    "    -- the parameters that we will need to insert in order to create a new user and customer\n",
    "    IN userEmail VARCHAR(100),\n",
    "    IN userPassword VARCHAR(255),\n",
    "    IN firstName VARCHAR(100),\n",
    "    IN lastName VARCHAR(100),\n",
    "    IN phone VARCHAR(20),\n",
    "    IN address TEXT,\n",
    "    IN country VARCHAR(40)\n",
    ")\n",
    "BEGIN\n",
    "    -- these variables are declared to store the auto-generated IDs for newly created user and customer\n",
    "    DECLARE newUserId INT;\n",
    "    DECLARE newCustomerId INT;\n",
    "\n",
    "    -- insert the new user into Users table, these fields depends on each specific database preferences, now() in values is used to insert timestamp of exact date when the user is created\n",
    "    INSERT INTO users (email, password, last_login, registration_date)\n",
    "    VALUES (userEmail, userPassword, NOW(), NOW());\n",
    "\n",
    "    -- retrieves the newly auto-genereated users ID and assigns it to the variable\n",
    "    SET newUserId = LAST_INSERT_ID();\n",
    "\n",
    "    -- creating a new customer with its specific values, depending on database needs\n",
    "    INSERT INTO customers (first_name, last_name, phone, address, country, user_id)\n",
    "    VALUES (firstName, lastName, phone, address, country, newUserId);\n",
    "\n",
    "    -- retrieves the newly generated customer id and assigns it to the variable\n",
    "    SET newCustomerId = LAST_INSERT_ID();\n",
    "\n",
    "    -- when I execute the SP, I like to see the newly inserted IDs in a new table, this is a personal preference and might as well be excluded from the SP\n",
    "    SELECT newUserId AS user_id, newCustomerId AS customer_id;\n",
    "END;\n",
    "//\n",
    "DELIMITER ;"
   ]
  },
  {
   "cell_type": "markdown",
   "id": "546f5b95-304a-41f9-b1a0-cd98b09800af",
   "metadata": {},
   "source": [
    "![new_user_photo](images/create_new_user.png)"
   ]
  },
  {
   "cell_type": "markdown",
   "id": "b96c7d03-cc06-4958-9cd5-a0c6a9738f30",
   "metadata": {},
   "source": [
    "**New author:**\n",
    "```sql\n",
    "DELIMITER //\n",
    "CREATE PROCEDURE create_new_author (\n",
    "\tIN new_name VARCHAR(255),\n",
    "    IN new_birth_date DATE,\n",
    "    IN new_nationality VARCHAR(255)\n",
    ")\n",
    "BEGIN\n",
    "\tINSERT INTO authors (author_name, birth_date, nationality)\n",
    "    VALUES (new_name, new_birth_date, new_nationality);\n",
    "END //\n",
    "DELIMITER ;\n"
   ]
  },
  {
   "cell_type": "markdown",
   "id": "749f738a-20d2-4b11-8f28-b688603352da",
   "metadata": {},
   "source": [
    "![new_author_photo](images/new_author_sp.png)"
   ]
  },
  {
   "cell_type": "markdown",
   "id": "892085cd-19d2-4c33-b53d-2d8058c52c70",
   "metadata": {},
   "source": [
    "**New book:**\n",
    "```sql\n",
    "DELIMITER //\n",
    "CREATE PROCEDURE create_new_book (\n",
    "\tIN new_title VARCHAR(255),\n",
    "    IN new_publication_date DATE,\n",
    "    IN new_ISBN VARCHAR(13),\n",
    "    IN new_stock_quantity INT,\n",
    "    IN new_price DECIMAL (10,2)\n",
    "    )\n",
    "BEGIN\n",
    "\tINSERT INTO books (title, publication_date, ISBN, stock_quantity, price)\n",
    "    VALUES (new_title,new_publication_date, new_ISBN, new_stock_quantity, new_price);\n",
    "END//\n",
    "DELIMITER ;\n"
   ]
  },
  {
   "cell_type": "markdown",
   "id": "8f5701b0-7fd2-4eb8-a220-20ecec7c7011",
   "metadata": {},
   "source": [
    "![new_book_photo](images/create_new_book_sp.png)"
   ]
  },
  {
   "cell_type": "markdown",
   "id": "07f29dfc-77a8-40fe-8ca3-446bcd9b0d2f",
   "metadata": {},
   "source": [
    "**New review:**\n",
    "```sql\n",
    "DELIMITER //\n",
    "CREATE PROCEDURE create_review(\n",
    "    IN p_customer_id INT,\n",
    "    IN p_book_id INT,\n",
    "    IN p_rating INT,\n",
    "    IN p_comments TEXT\n",
    ")\n",
    "BEGIN\n",
    "    -- to validate if the inserted number is in the adequate range, if not, an error message is rased and insertion is aborted\n",
    "    IF p_rating >= 1 AND p_rating <= 5 THEN\n",
    "        -- setting variable @current_date to current date,  variable allows to store the current date temporarily for further use within the scope of this session\n",
    "        SET @current_date = CURDATE();\n",
    "        \n",
    "        INSERT INTO reviews (customer_id, book_id, rating, comments, review_date)\n",
    "        VALUES (p_customer_id, p_book_id, p_rating, p_comments, @current_date);\n",
    "    ELSE\n",
    "        SIGNAL SQLSTATE '45000'\n",
    "        SET MESSAGE_TEXT = 'Invalid rating. Rating must be between 1 and 5.';\n",
    "    END IF;\n",
    "END //\n",
    "DELIMITER ;\n"
   ]
  },
  {
   "cell_type": "markdown",
   "id": "2fd6fc77-1d0d-4f05-a6f4-2f80a8e013a4",
   "metadata": {},
   "source": [
    "![new_review_photo](images/new_review_sp.png)"
   ]
  },
  {
   "cell_type": "markdown",
   "id": "2c4d89da-9cee-4ec4-b96f-827a1db816e2",
   "metadata": {},
   "source": [
    "**New order:**\n",
    "```sql\n",
    "DELIMITER //\n",
    "CREATE PROCEDURE create_order(\n",
    "    IN in_customer_id INT\n",
    ")\n",
    "BEGIN\n",
    "    DECLARE new_order_id INT;\n",
    "    \n",
    "    -- create a new order with the default status as Pending\n",
    "    INSERT INTO Orders (customer_id, order_date, status)\n",
    "    VALUES (in_customer_id, CURDATE(), 'Pending');\n",
    "    \n",
    "    -- retrieve the newly generated order_id\n",
    "    SELECT LAST_INSERT_ID() INTO new_order_id;\n",
    "    \n",
    "    -- output the newly generated order_id - my personal preference\n",
    "    SELECT new_order_id AS order_id;\n",
    "END;\n",
    "//\n",
    "DELIMITER ;\n"
   ]
  },
  {
   "cell_type": "markdown",
   "id": "0a4ebd0b-fb16-4b0a-be20-4fa34d393999",
   "metadata": {},
   "source": [
    "![new_order_photo](images/create_order_sp.png)"
   ]
  },
  {
   "cell_type": "markdown",
   "id": "45f693ee-e774-491b-820c-cd82f5031a20",
   "metadata": {},
   "source": [
    "**New order items:**\n",
    "```sql\n",
    "DELIMITER //\n",
    "CREATE PROCEDURE create_orderitem(\n",
    "    IN in_pending_order_id INT,\n",
    "    IN in_book_id INT,\n",
    "    IN in_quantity INT\n",
    ")\n",
    "BEGIN\n",
    "    DECLARE book_price DECIMAL(10, 2);\n",
    "    DECLARE item_subtotal DECIMAL(10, 2);\n",
    "\n",
    "    -- get the price of the book from the Books table\n",
    "    SELECT price INTO book_price\n",
    "    FROM Books\n",
    "    WHERE book_id = in_book_id;\n",
    "\n",
    "    -- calculate the subtotal for each book\n",
    "    SET item_subtotal = book_price * in_quantity;\n",
    "\n",
    "    -- insert the new order item\n",
    "    INSERT INTO OrderItems (order_id, book_id, quantity, subtotal)\n",
    "    VALUES (in_pending_order_id, in_book_id, in_quantity, item_subtotal);\n",
    "END;\n",
    "//\n",
    "DELIMITER ;\n"
   ]
  },
  {
   "cell_type": "markdown",
   "id": "707bcbb1-0c3c-438f-9768-08593ca1d0a8",
   "metadata": {},
   "source": [
    "![orderitem_photo](images/create_orderitem_sp.png)"
   ]
  },
  {
   "cell_type": "markdown",
   "id": "fed5fe4d-7a6a-4687-8d70-54c28e07a127",
   "metadata": {},
   "source": [
    "**New payment:**\n",
    "```sql\n",
    "DELIMITER //\n",
    "CREATE PROCEDURE create_payment (\n",
    "    IN pending_order_id INT,\n",
    "    IN payment_method VARCHAR(50),\n",
    "    IN payment_status VARCHAR(20)\n",
    ")\n",
    "BEGIN\n",
    "    -- Declares a variable amount of type DECIMAL(10,2) to store the total amount for the pending order\n",
    "    DECLARE amount DECIMAL(10,2);\n",
    "    -- Calculates the total amount (subtotal) for the pending order using the SUM function, the result is saved in amount variable\n",
    "    SELECT sum(subtotal) INTO amount\n",
    "    FROM orderitems\n",
    "    WHERE order_id = pending_order_id;\n",
    "\n",
    "    -- Checks if the provided payment_method is one of the allowed values. If not, it raises an exception with a custom error message\n",
    "    IF payment_method NOT IN ('Credit Card', 'App Wallet', 'PayPal') THEN\n",
    "        SIGNAL SQLSTATE '45000'\n",
    "        SET MESSAGE_TEXT = 'Invalid payment method. Allowed methods: Credit Card, App Wallet, PayPal.';\n",
    "        RESIGNAL;\n",
    "    END IF;\n",
    "\n",
    "    -- Checks if the provided payment_status is one of the allowed values. If not, it raises an exception with a custom error message\n",
    "    IF payment_status NOT IN ('Refunded', 'Pending', 'Failed', 'Completed') THEN\n",
    "        SIGNAL SQLSTATE '45000'\n",
    "        SET MESSAGE_TEXT = 'Invalid payment status. Allowed statuses: Refunded, Pending, Failed, Completed.';\n",
    "        RESIGNAL;\n",
    "    END IF;\n",
    "\n",
    "    -- Inserts a new record into the payments table with the current date, payment method, calculated amount, and provided payment status\n",
    "    INSERT INTO payments (payment_date, payment_method, amount, status)\n",
    "    VALUES (NOW(), payment_method, amount, payment_status);\n",
    "\n",
    "    -- Updates the corresponding order in the orders table with the newly inserted payment ID and adjusts the order status based on the payment status\n",
    "    UPDATE orders\n",
    "    SET payment_id = LAST_INSERT_ID(),\n",
    "        status = CASE\n",
    "            WHEN payment_status = 'Completed' THEN 'Shipped'\n",
    "            WHEN payment_status = 'Pending' OR payment_status = 'Failed' THEN 'Pending'\n",
    "            WHEN payment_status = 'Refunded' THEN 'Cancelled'\n",
    "        END\n",
    "    WHERE order_id = pending_order_id;\n",
    "END//\n",
    "DELIMITER ;\n"
   ]
  },
  {
   "cell_type": "markdown",
   "id": "0a601dce-2e2c-4d6f-ae36-673c1fdc44aa",
   "metadata": {},
   "source": [
    "![create_payment_photo](images/create_payment_sp.png)"
   ]
  },
  {
   "cell_type": "markdown",
   "id": "81cf6894-5100-4ead-b2c5-d03aa0af3cb4",
   "metadata": {
    "jp-MarkdownHeadingCollapsed": true
   },
   "source": [
    "## Stored Procedures for inserting existing data in the destination table"
   ]
  },
  {
   "cell_type": "markdown",
   "id": "9f2c6821-3a53-47ed-a91e-fca16fa76b20",
   "metadata": {},
   "source": [
    "**Assigning author to a book:**\n",
    "```sql\n",
    "DELIMITER //\n",
    "CREATE PROCEDURE assign_author_to_book(\n",
    "    IN authorID INT,\n",
    "    IN bookID INT\n",
    ")\n",
    "BEGIN\n",
    "    -- check if the author and book exist\n",
    "    IF (EXISTS (SELECT 1 FROM authors WHERE authors_id = authorID) AND\n",
    "        EXISTS (SELECT 1 FROM books WHERE book_id = bookID)) THEN\n",
    "        -- insert the association into authorsbooks\n",
    "        INSERT INTO authorsbooks (authors_id, book_id)\n",
    "        VALUES (authorID, bookID);\n",
    "    ELSE\n",
    "        SIGNAL SQLSTATE '45000'\n",
    "        SET MESSAGE_TEXT = 'Author or book does not exist.';\n",
    "    END IF;\n",
    "END;\n",
    "//\n",
    "DELIMITER ;\n"
   ]
  },
  {
   "cell_type": "markdown",
   "id": "d562aafa-4b60-43ca-b1e7-b1f70cdfc227",
   "metadata": {},
   "source": [
    "**Assigning genre to a book:**\n",
    "```sql\n",
    "DELIMITER //\n",
    "CREATE PROCEDURE assign_genre_to_book(\n",
    "    IN genreID INT,\n",
    "    IN bookID INT\n",
    ")\n",
    "BEGIN\n",
    "    -- check if the genre and book exist\n",
    "    IF (EXISTS (SELECT 1 FROM genres WHERE genre_id = genreID) AND\n",
    "        EXISTS (SELECT 1 FROM books WHERE book_id = bookID)) THEN\n",
    "        -- Insert the association into genresbooks\n",
    "        INSERT INTO genresbooks (book_id, genre_id)\n",
    "        VALUES (bookID, genreID);\n",
    "    ELSE\n",
    "        SIGNAL SQLSTATE '45000'\n",
    "        SET MESSAGE_TEXT = 'Genre or book does not exist.';\n",
    "    END IF;\n",
    "END;\n",
    "//\n",
    "DELIMITER ;\n"
   ]
  },
  {
   "cell_type": "markdown",
   "id": "dd2f696e-2732-4a3f-bca8-9baca754899e",
   "metadata": {
    "jp-MarkdownHeadingCollapsed": true
   },
   "source": [
    "## Stored Procedures with COUNT() function"
   ]
  },
  {
   "cell_type": "markdown",
   "id": "59a82465-d698-4c3c-8d1a-51053a0458f3",
   "metadata": {},
   "source": [
    "This kind of stored procedures simplify the process to retrieve different values for data that we have in our database. Instead of writing a query every time we want to check up how many orders, for example, have been delivered, we can just call this procedure and see the result, like this saving tons of time."
   ]
  },
  {
   "cell_type": "markdown",
   "id": "912d7b78-2257-4717-b8c4-0b78f3c5fcd9",
   "metadata": {},
   "source": [
    "Stored procedure to see the count of orders for each possible order status:\n",
    "```sql\n",
    "DELIMITER //\n",
    "CREATE PROCEDURE order_status_count()\n",
    "BEGIN\n",
    "\tSELECT \n",
    "        status, \n",
    "        count(order_id) as quantity\n",
    "    FROM \n",
    "        orders\n",
    "    GROUP BY 1;\n",
    "END //\n",
    "DELIMITER ;\n"
   ]
  },
  {
   "cell_type": "markdown",
   "id": "876be2bb-3fbd-4b17-9376-66ac019818d5",
   "metadata": {},
   "source": [
    "The same we can do for Payments table, as there are records with different statuses, and to know how our business processes are going, we need to control and see the statistics for each status:\n",
    "```sql\n",
    "DELIMITER //\n",
    "CREATE PROCEDURE paymentStatusCount ()\n",
    "BEGIN\n",
    "\tSELECT \n",
    "        status, \n",
    "        count(payment_id) as quantity\n",
    "    FROM \n",
    "        payments \n",
    "    GROUP BY 1;\n",
    "END //\n",
    "DELIMITER ;\n"
   ]
  },
  {
   "cell_type": "markdown",
   "id": "f7d6142d-bc2b-4d0d-99d1-3be1cad8f755",
   "metadata": {},
   "source": [
    "For example, for data analysis purposes, we can create a procedure that returns us count of payments by the method it has been done, like this we can retrieve information about each payment method and then do appropriate conclusions:\n",
    "```sql\n",
    "DELIMITER //\n",
    "CREATE PROCEDURE paymentMethodCount()\n",
    "BEGIN\n",
    "\tSELECT \n",
    "        payment_method, \n",
    "        count(payment_id) as quantity\n",
    "    FROM \n",
    "        payments\n",
    "    GROUP BY 1;\n",
    "END //\n",
    "DELIMITER ;\n"
   ]
  },
  {
   "cell_type": "markdown",
   "id": "ec51e5e6-7364-4c81-a19d-8ed1d29dc13a",
   "metadata": {},
   "source": [
    "Procedure to see the total count of payments by each payment method:\n",
    "```sql\n",
    "DELIMITER //\n",
    "CREATE PROCEDURE paymentStatusByMethod()\n",
    "BEGIN\n",
    "\tSELECT \n",
    "        payment_method,\n",
    "        status,\n",
    "        count(payment_id) as quantity\n",
    "    FROM \n",
    "        payments\n",
    "    GROUP BY 1,2;\n",
    "END //\n",
    "DELIMITER ;\n"
   ]
  },
  {
   "cell_type": "markdown",
   "id": "e27f62f1-dc73-49b1-aea0-7abcde320539",
   "metadata": {
    "jp-MarkdownHeadingCollapsed": true
   },
   "source": [
    "## Stored Procedures for deleting records from database"
   ]
  },
  {
   "cell_type": "markdown",
   "id": "c70f9378-1e1f-43e8-9a63-8bcf18c42c6e",
   "metadata": {},
   "source": [
    "As for compliance, auditing and analysis, I have decided to apply soft delete to some of my independent entities in the database.\n",
    "The trickiest part was to archive customers who no longer are willing to use Bookshop Near Me services. It means not only soft deleting their user and customer information, but to also decide what to do with their corresponding orders and payments. So the idea is to also save payments, order and order items from the deleted customer, and whenever this information is not neccessary, it can be deleted completely by executing corresponding procedure, or by making a trigger which is activated whenever a deletion date is of 90 days of antiquity. \n",
    "\n",
    "**Deleting a customer:**\n",
    "```sql\n",
    "DELIMITER //\n",
    "CREATE PROCEDURE archive_customer(\n",
    "    IN p_customer_id INT\n",
    ")\n",
    "BEGIN\n",
    "    DECLARE v_user_id INT;\n",
    "    DECLARE v_customer_id INT; \n",
    "    DECLARE v_customer_email VARCHAR(100);\n",
    "    DECLARE v_registration_duration INT;\n",
    "    DECLARE v_customer_country VARCHAR(40);\n",
    "    DECLARE v_last_login DATE;\n",
    "\n",
    "    -- get the associated user_id and customer_id for the customer I`m archiving\n",
    "    SELECT u.user_id, c.customer_id, u.email, DATEDIFF(NOW(), u.registration_date), c.country, u.last_login\n",
    "    INTO v_user_id, v_customer_id, v_customer_email, v_registration_duration, v_customer_country, v_last_login\n",
    "    FROM users u\n",
    "    INNER JOIN customers c ON u.user_id = c.user_id\n",
    "    WHERE c.customer_id = p_customer_id;\n",
    "\n",
    "    -- moving the payments that are associated with the indicated customer to the archived_payments table\n",
    "    INSERT INTO archived_payments (payment_id, payment_date, payment_method, amount, status, archived_at, archived_by)\n",
    "    SELECT p.payment_id, p.payment_date, p.payment_method, p.amount, p.status , NOW(), USER()\n",
    "    FROM payments p\n",
    "    INNER JOIN orders o ON p.payment_id = o.payment_id\n",
    "    WHERE o.customer_id = p_customer_id;\n",
    "\n",
    "    -- when moving proccess has been done, it is save to delete corresponding payment, it is obtained by subquery\n",
    "    DELETE FROM payments p\n",
    "\tWHERE p.payment_id IN (SELECT payment_id FROM orders WHERE customer_id = p_customer_id);\n",
    "\n",
    "    -- the same process goes for order items, all the order items for the deleted customer has to be moved to the archive\n",
    "    INSERT INTO archived_orderitems (order_id, book_id, quantity, subtotal, archived_at, archived_by)\n",
    "    SELECT oi.order_id, oi.book_id, oi.quantity, oi.subtotal, NOW(), USER()\n",
    "    FROM orderitems oi\n",
    "    INNER JOIN orders o ON oi.order_id = o.order_id\n",
    "    WHERE o.customer_id = p_customer_id;\n",
    "    \n",
    "    -- again, when it is done, we can safely delete the records from orderitems table\n",
    "\tDELETE FROM orderitems oi\n",
    "\tWHERE oi.order_id IN (SELECT order_id FROM orders WHERE customer_id = p_customer_id);\n",
    "    \n",
    "     -- same process for orders\n",
    "    INSERT INTO archived_orders (order_id, customer_id, order_date, status, payment_id, archived_at, archived_by)\n",
    "    SELECT order_id, customer_id, order_date, status, payment_id, NOW(), USER()\n",
    "    FROM orders\n",
    "    WHERE customer_id = p_customer_id;\n",
    "\n",
    "    -- deleting corresponding orders for the indicated customer\n",
    "\tDELETE FROM orders\n",
    "\tWHERE customer_id = p_customer_id;\n",
    "\n",
    "\n",
    "    -- now, when all customer \"belongings\" have been taken care of, it is safe to migrate the customer and user information, that we want to see for analytics reasons or compliance, to the deleted_customers table\n",
    "    INSERT INTO deleted_customers (customer_id, first_name, last_name, phone, address, membership_status, customer_email, registration_duration, customer_country, last_login, deletion_date)\n",
    "    SELECT c.customer_id, c.first_name, c.last_name, c.phone, c.address, c.membership_status, u.email AS customer_email, DATEDIFF(NOW(), u.registration_date) AS registration_duration, c.country AS customer_country, u.last_login, NOW() AS deletion_date\n",
    "    FROM customers c\n",
    "    INNER JOIN users u ON c.user_id = u.user_id\n",
    "    WHERE c.customer_id = p_customer_id;\n",
    "\n",
    "    -- after all the moving, it is safe to delete the customer\n",
    "    DELETE FROM customers\n",
    "    WHERE customer_id = p_customer_id;\n",
    "\n",
    "    -- and also corresponding user\n",
    "    DELETE FROM users\n",
    "    WHERE user_id = v_user_id;\n",
    "END //\n",
    "DELIMITER ;\n",
    "\n"
   ]
  },
  {
   "cell_type": "markdown",
   "id": "e1193b11-8ad0-4d52-80e3-d4ea69f67073",
   "metadata": {},
   "source": [
    "This procedure is a great example how Stored Procedures can save time, all that I need to insert, when executing this SP, is customer_id and all of the other deletion processes happen automatically... obviously it takes a little time to build such an extended procedure, but, if you feel unsafe, you can always divide this procedure in smaller procedures."
   ]
  },
  {
   "cell_type": "markdown",
   "id": "d8863bdd-4cc5-4f80-8812-ba9aa65a9bee",
   "metadata": {},
   "source": [
    "**Deleting an author:**  \n",
    "My personal preference was not to allow to delete author that still has books assign to it:\n",
    "```sql\n",
    "DELIMITER //\n",
    "\n",
    "CREATE PROCEDURE delete_author(\n",
    "    IN p_author_id INT\n",
    ")\n",
    "BEGIN\n",
    "    DECLARE v_book_count INT;\n",
    "\n",
    "    -- check if there are any books by the author in stock\n",
    "    SELECT COUNT(*)\n",
    "    INTO v_book_count\n",
    "    FROM authorsbooks ab\n",
    "    INNER JOIN books b ON ab.book_id = b.book_id\n",
    "    WHERE ab.authors_id = p_author_id AND (b.stock_quantity > 0 OR b.stock_quantity IS NULL);\n",
    "\n",
    "    -- if there are no books in stock, delete the author\n",
    "    IF v_book_count = 0 THEN\n",
    "        -- insert the author data into the deleted_authors table\n",
    "        INSERT INTO deleted_authors (authors_id, author_name, birth_date, nationality, deleted_by, delete_at)\n",
    "        SELECT authors_id, author_name, birth_date, nationality, USER(), NOW()\n",
    "        FROM authors\n",
    "        WHERE authors_id = p_author_id;\n",
    "\n",
    "        -- delete the author\n",
    "        DELETE FROM authors WHERE authors_id = p_author_id;\n",
    "    ELSE\n",
    "        SIGNAL SQLSTATE '45000'\n",
    "        SET MESSAGE_TEXT = 'Cannot delete author. Books by the author are still in stock.';\n",
    "    END IF;\n",
    "END //\n",
    "\n",
    "DELIMITER ;"
   ]
  },
  {
   "cell_type": "markdown",
   "id": "a275ac7e-7d7e-4c84-8920-d48b1164dcb9",
   "metadata": {},
   "source": [
    "**Deleting a book:**\n",
    "```sql\n",
    "DELIMITER //\n",
    "\n",
    "CREATE PROCEDURE delete_book(\n",
    "    IN p_book_id INT\n",
    ")\n",
    "BEGIN\n",
    "    DECLARE v_title VARCHAR(255);\n",
    "    DECLARE v_publication_date DATE;\n",
    "    DECLARE v_ISBN VARCHAR(13);\n",
    "    DECLARE v_stock_quantity INT;\n",
    "    DECLARE v_avarage_rating DECIMAL(3,1);\n",
    "    DECLARE v_price DECIMAL(10,2);\n",
    "    DECLARE v_authors_id INT;\n",
    "    DECLARE v_author_name VARCHAR(255);\n",
    "\n",
    "    -- get book data before deletion\n",
    "    SELECT title, publication_date, ISBN, stock_quantity, avarage_rating, price\n",
    "    INTO v_title, v_publication_date, v_ISBN, v_stock_quantity, v_avarage_rating, v_price\n",
    "    FROM books\n",
    "    WHERE book_id = p_book_id;\n",
    "\n",
    "    -- get associated author's data, this is a personal preference for easier analysis\n",
    "    SELECT ab.authors_id, a.author_name\n",
    "    INTO v_authors_id, v_author_name\n",
    "    FROM authorsbooks ab\n",
    "    INNER JOIN authors a ON ab.authors_id = a.authors_id\n",
    "    WHERE ab.book_id = p_book_id;\n",
    "\n",
    "    -- insert the deleted book's data into the deleted_books table\n",
    "    INSERT INTO deleted_books (book_id, title, publication_date, ISBN, stock_quantity, avarage_rating, price, authors_id, author_name, deleted_by, deleted_at)\n",
    "    VALUES (p_book_id, v_title, v_publication_date, v_ISBN, v_stock_quantity, v_avarage_rating, v_price, v_authors_id, v_author_name, USER(), NOW());\n",
    "\n",
    "    -- delete the book from authorsbooks, as it appears as well here\n",
    "    DELETE FROM authorsbooks WHERE book_id = p_book_id;\n",
    "\n",
    "    -- delete the book\n",
    "    DELETE FROM books WHERE book_id = p_book_id;\n",
    "END //\n",
    "\n",
    "DELIMITER ;\n"
   ]
  },
  {
   "cell_type": "markdown",
   "id": "b65b6676-f2e0-4853-9370-cb36a44ebbf0",
   "metadata": {},
   "source": [
    "**Deleting loyalty points:**  \n",
    "Deleting loyalty points exclusively for the deleted customers:\n",
    "```sql\n",
    "DELIMITER //\n",
    "CREATE PROCEDURE delete_loyalty_points()\n",
    "BEGIN\n",
    "    -- delete loyalty points for customers in the deleted_customers table\n",
    "    DELETE lp\n",
    "    FROM loyaltypoints lp\n",
    "    INNER JOIN deleted_customers dc ON lp.customer_id = dc.customer_id;\n",
    "END //\n",
    "DELIMITER ;\n"
   ]
  },
  {
   "cell_type": "markdown",
   "id": "105bd37f-7a30-499c-b8f8-d0c7d93cac88",
   "metadata": {
    "jp-MarkdownHeadingCollapsed": true
   },
   "source": [
    "## Stored Procedures for updating"
   ]
  },
  {
   "cell_type": "markdown",
   "id": "f13676dc-6011-4fbd-b54c-dec14ef7467e",
   "metadata": {},
   "source": [
    "**Restock on books:**  \n",
    "```sql\n",
    "DELIMITER //\n",
    "CREATE PROCEDURE stock_up_books (\n",
    "    IN bookID INT,\n",
    "    IN quantity INT\n",
    "    )\n",
    "BEGIN\n",
    "    -- check if the book exists in the low_stock_books view\n",
    "    IF (EXISTS (SELECT 1 FROM low_stock_books WHERE book_id = bookID)) THEN\n",
    "        -- if so, increase the stock quantity of the book\n",
    "        UPDATE books\n",
    "        SET stock_quantity = stock_quantity + quantity\n",
    "        WHERE book_id = bookID;\n",
    "    ELSE\n",
    "        SIGNAL SQLSTATE '45000'\n",
    "        SET MESSAGE_TEXT = 'The book is not low on stock.';\n",
    "    END IF;\n",
    "END;\n",
    "//\n",
    "DELIMITER ;\n"
   ]
  },
  {
   "cell_type": "markdown",
   "id": "aacbea5f-1ce1-46e0-8215-4574c5219299",
   "metadata": {},
   "source": [
    "**Update order status:**  \n",
    "As status a changing attribute, it is neccessary to make it safe to change it\n",
    "```sql\n",
    "DELIMITER //\n",
    "CREATE PROCEDURE update_order_status(\n",
    "\tIN in_order_id INT,\n",
    "    IN in_new_status VARCHAR(20)\n",
    "    )\n",
    "BEGIN\n",
    "    -- check if the new status is valid\n",
    "    IF in_new_status IN ('Shipped', 'Delivered', 'Cancelled', 'Pending') THEN\n",
    "        -- update the status if it's a valid status\n",
    "        UPDATE orders\n",
    "        SET status = in_new_status\n",
    "        WHERE order_id = in_order_id;\n",
    "    ELSE\n",
    "        -- raise an error if the status is invalid\n",
    "        SIGNAL SQLSTATE '45000'\n",
    "        SET MESSAGE_TEXT = 'Invalid order status. Order status can only be Shipped, Delivered, Cancelled or Pending';\n",
    "    END IF;\n",
    "END;\n",
    "//\n",
    "DELIMITER ;\n"
   ]
  },
  {
   "cell_type": "markdown",
   "id": "19e2a66f-4b1e-4154-abd2-6cff8250790d",
   "metadata": {},
   "source": [
    "**Update payment status:**  \n",
    "```sql\n",
    "DELIMITER //\n",
    "CREATE PROCEDURE update_payment_status(\n",
    "    IN paymentID INT,\n",
    "    IN newPaymentStatus VARCHAR(20)\n",
    ")\n",
    "BEGIN\n",
    "\t-- check if newPaymentStatus is a valid value\n",
    "    IF newPaymentStatus IN ('Pending', 'Completed', 'Failed', 'Refunded') THEN\n",
    "\n",
    "    -- update the payment status\n",
    "    UPDATE Payments\n",
    "    SET status = newPaymentStatus\n",
    "    WHERE payment_id = paymentID;\n",
    "\n",
    "    -- update the corresponding order status based on the new payment status\n",
    "    UPDATE Orders o\n",
    "    SET o.status = \n",
    "        CASE newPaymentStatus\n",
    "\t\t\tWHEN 'Pending' THEN 'Shipped'\n",
    "            WHEN 'Completed' THEN 'Delivered'\n",
    "            WHEN 'Failed' THEN 'Pending'\n",
    "            WHEN 'Refunded' THEN 'Cancelled'\n",
    "            ELSE o.status\n",
    "        END\n",
    "    WHERE o.payment_id = paymentID;\n",
    "    ELSE\n",
    "        SIGNAL SQLSTATE '45000'\n",
    "        SET MESSAGE_TEXT = 'Invalid payment status. Allowed statuses: Pending, Completed, Failed, Refunded.';\n",
    "    END IF;\n",
    "END//\n",
    "DELIMITER ;\n"
   ]
  }
 ],
 "metadata": {
  "kernelspec": {
   "display_name": "Python 3 (ipykernel)",
   "language": "python",
   "name": "python3"
  },
  "language_info": {
   "codemirror_mode": {
    "name": "ipython",
    "version": 3
   },
   "file_extension": ".py",
   "mimetype": "text/x-python",
   "name": "python",
   "nbconvert_exporter": "python",
   "pygments_lexer": "ipython3",
   "version": "3.11.5"
  }
 },
 "nbformat": 4,
 "nbformat_minor": 5
}
