{
 "cells": [
  {
   "cell_type": "markdown",
   "id": "0c78cff4-7778-4d52-8d04-ec55d64d3947",
   "metadata": {},
   "source": [
    "# 7. Data Control Language (DCL)"
   ]
  },
  {
   "cell_type": "markdown",
   "id": "4d6b5e4b-f2f1-4310-ae26-60e43255ad77",
   "metadata": {},
   "source": [
    "Data Control Language (DCL) is SQL commands `GRANT` and `REVOKE` to control user access to database objects and their contents. These commands are employed to grant, remove and deny permissions to users for retrieving and manipulating a database.\n",
    "Security starts with the admin user. As the admin user, you must create and authorize other users. When you first create users, they cannot see or do anything. As you grant users more privileges, they can access more database objects."
   ]
  },
  {
   "cell_type": "markdown",
   "id": "a9c435b8-e6ef-4fe0-88ee-9a9c81d3efe2",
   "metadata": {
    "jp-MarkdownHeadingCollapsed": true
   },
   "source": [
    "### GRANT"
   ]
  },
  {
   "cell_type": "markdown",
   "id": "9e2c9f9b-9b8f-4da5-a083-6956edbc20e2",
   "metadata": {},
   "source": [
    "Use the `GRANT` command to grant privileges to a user or group. The system adds these privileges to whatever privileges the user or group already has. \r\n",
    "To grant privileges to only a few columns, create a view that contains those columns and grant privileges to that view."
   ]
  },
  {
   "cell_type": "markdown",
   "id": "44e9b458-9620-4ab8-ac3a-6026d628b522",
   "metadata": {},
   "source": [
    "Syntax:"
   ]
  },
  {
   "cell_type": "markdown",
   "id": "67fb55d1-21f6-4c65-8ad3-dd616456dbc7",
   "metadata": {},
   "source": [
    "```sql\n",
    "GRANT privilege(s) ON object TO 'username'@'hostname'; "
   ]
  },
  {
   "cell_type": "markdown",
   "id": "9bf002f9-0af2-4099-8064-418b396101d0",
   "metadata": {},
   "source": [
    "Example:"
   ]
  },
  {
   "cell_type": "markdown",
   "id": "1202b1c9-f73c-485f-a273-618317059e61",
   "metadata": {},
   "source": [
    "```sql\n",
    "GRANT SELECT, UPDATE ON books TO 'monica@localhost';"
   ]
  },
  {
   "cell_type": "markdown",
   "id": "07a88310-aef9-4b79-995a-0f7fc2634da4",
   "metadata": {},
   "source": [
    "In MySQL most common privileges to be granted are:\n",
    "```sql\n",
    "- SELECT\n",
    "- UPDATE\n",
    "- INSERT\n",
    "- DELETE\n",
    "- EXECUTE ON PROCEDURE -- allows to execute functions and stored procedures\n",
    "- ALL -- grants all privileges\n",
    "- CREATE\n",
    "- ALTER\n",
    "- DROP\n",
    "- REFERENCES -- permission to create foreign key constraint"
   ]
  },
  {
   "cell_type": "markdown",
   "id": "ec50fa19-2214-4fc2-9986-47c53a849e41",
   "metadata": {},
   "source": [
    "`GRANT` permissions have different levels of scope to which they can be granted:"
   ]
  },
  {
   "cell_type": "markdown",
   "id": "a67b4959-6c18-4779-89d3-1f4e1d499bbe",
   "metadata": {},
   "source": [
    "- **Global level**: this apply to the entire MySQL server. They affect all databases and all tables within them. Some global privileges include CREATE USER, RELOAD, and SHUTDOWN:\n",
    "```sql\n",
    "GRANT RELOAD, SHUTDOWN ON *.* TO 'Michael'@'hostname';\r\n"
   ]
  },
  {
   "cell_type": "markdown",
   "id": "5d2fa3eb-b4aa-404a-b52e-c2996864d5f4",
   "metadata": {},
   "source": [
    "- **Database level**: are specific to a particular database. These privileges apply to all tables and objects within that database:\n",
    "```sql\n",
    "GRANT SELECT, INSERT ON mydb.* TO 'Dwight'@'hostname';\r\n"
   ]
  },
  {
   "cell_type": "markdown",
   "id": "3d3bb181-44f9-42d0-a985-0efeb37dbc98",
   "metadata": {},
   "source": [
    "- **Table level**: are the most specific. They apply to individual tables or views within a database:\n",
    "```sql\n",
    "GRANT UPDATE, DELETE ON mydb.mytable TO 'Toby'@'hostname';\r\n"
   ]
  },
  {
   "cell_type": "markdown",
   "id": "d9b4a550-1a85-4458-82ef-aed0febec8f3",
   "metadata": {},
   "source": [
    "- **Routine level**:  pertain to stored procedures and functions. One can grant or revoke the privilege to execute these routines:\n",
    "```sql\n",
    "GRANT EXECUTE ON PROCEDURE mydb.myprocedure TO 'Kevin'@'hostname';\r\n"
   ]
  },
  {
   "cell_type": "markdown",
   "id": "32a8cdff-ecaa-4395-a434-2d76d980632a",
   "metadata": {
    "jp-MarkdownHeadingCollapsed": true
   },
   "source": [
    "### REVOKE"
   ]
  },
  {
   "cell_type": "markdown",
   "id": "35f0300c-482f-4bf8-b110-39e395a80645",
   "metadata": {},
   "source": [
    "`REVOKE` command withdraws the user’s access privileges given by using the GRANT command."
   ]
  },
  {
   "cell_type": "markdown",
   "id": "2b01880b-6f9a-4e1e-a1f4-43f3ea3740c2",
   "metadata": {},
   "source": [
    "Syntax:"
   ]
  },
  {
   "cell_type": "markdown",
   "id": "bb83d2b2-6d72-44b0-b66e-cc16e2038102",
   "metadata": {},
   "source": [
    "```sql\n",
    "REVOKE privilege(s) ON object FROM user_or_role;\r\n"
   ]
  },
  {
   "cell_type": "markdown",
   "id": "9d571be9-29af-42bd-b769-26689dae627a",
   "metadata": {},
   "source": [
    "Example:"
   ]
  },
  {
   "cell_type": "markdown",
   "id": "72bd1668-a99d-4b71-8094-41838f09ac27",
   "metadata": {},
   "source": [
    "```sql\n",
    "REVOKE SELECT ON database_name.table_name FROM 'Dwight'@'hostname';\r\n"
   ]
  },
  {
   "cell_type": "markdown",
   "id": "5f3c18cb-43c6-4c7d-8ac1-55580fb43f59",
   "metadata": {},
   "source": [
    "Again, privileges that can be withdrawn are the same that can be granted."
   ]
  },
  {
   "cell_type": "markdown",
   "id": "4ab30b43-103a-418a-879f-b9042b6125a3",
   "metadata": {},
   "source": [
    "Revoke a specific global privilege:\n",
    "```sql\n",
    "REVOKE RELOAD, SHUTDOWN ON *.* FROM 'Michael'@'hostname';\r\n"
   ]
  },
  {
   "cell_type": "markdown",
   "id": "b6458c8f-cbf6-4626-ba45-245f13c90f50",
   "metadata": {
    "jp-MarkdownHeadingCollapsed": true
   },
   "source": [
    "## Privileges and Users in Bookshop Near Me"
   ]
  },
  {
   "cell_type": "markdown",
   "id": "b962f85b-61a9-46a4-aef8-dce085123abc",
   "metadata": {},
   "source": [
    "Creating neccessary users in database:"
   ]
  },
  {
   "cell_type": "markdown",
   "id": "0685a42a-1959-45ca-8236-ccf657eae785",
   "metadata": {},
   "source": [
    "```sql\n",
    "CREATE USER 'decision_maker@localhost' IDENTIFIED BY 'p@ssM0rd';\n",
    "\n",
    "CREATE USER 'inventory@localhost' IDENTIFIED BY '1nW3nt0ry';\n",
    "\n",
    "CREATE USER 'compliance@localhost' IDENTIFIED BY 'C0wpl1anc3';\n",
    "\n",
    "CREATE USER 'orders@localhost' IDENTIFIED BY '0rd3rs';\n",
    "\n",
    "CREATE USER 'analytics@localhost' IDENTIFIED BY '@n@lyt1cs';\n"
   ]
  },
  {
   "cell_type": "markdown",
   "id": "d340379d-7220-44e3-a760-e1915d8c4b7c",
   "metadata": {},
   "source": [
    "**Assigning privileges to the Decision Maker user:**"
   ]
  },
  {
   "cell_type": "markdown",
   "id": "5201d0c9-34c5-4b0d-a18a-894f95c54369",
   "metadata": {},
   "source": [
    "In name of data protection, let`s create view from Customers and Users table, to protect sensitive information:"
   ]
  },
  {
   "cell_type": "markdown",
   "id": "5182fabf-c3b6-4f1c-b173-a03e723b2f15",
   "metadata": {},
   "source": [
    "```sql\n",
    "CREATE VIEW customer_view AS \n",
    "SELECT c.customer_id,\n",
    "\tc.membership_status,\n",
    "    c.country,\n",
    "    u.last_login,\n",
    "    u.registration_date\n",
    "FROM \n",
    "\tcustomers c\n",
    "JOIN\n",
    "\tusers u\n",
    "ON \n",
    "\tc.customer_id = u.customer_id;"
   ]
  },
  {
   "cell_type": "markdown",
   "id": "e7e2a3e1-5b77-40f8-ac06-fc4dcc9670f2",
   "metadata": {},
   "source": [
    "Assign privileges to Decision Makers:"
   ]
  },
  {
   "cell_type": "markdown",
   "id": "e13dd6b7-ea6f-4f8a-bd82-069c0d763e88",
   "metadata": {},
   "source": [
    "```sql\n",
    "GRANT SELECT ON\n",
    "\tbookshopnearme.authors,\n",
    "    bookshopnearme.books,\n",
    "    bookshopnearme.genresbooks,\n",
    "    bookshopnearme.authorsbooks,\n",
    "    bookshopnearme.orderitems,\n",
    "    bookshopnearme.orders,\n",
    "    bookshopnearme.payments,\n",
    "    bookshopnearme.reviews,\n",
    "    bookshopnearme.customer_view\n",
    "    TO\n",
    "\t'decision_maker@localhost';"
   ]
  },
  {
   "cell_type": "markdown",
   "id": "3359cc6e-8346-4eb1-bd0f-8c3ff0b394d2",
   "metadata": {},
   "source": [
    "**Assigning privileges to the Inventory user:**"
   ]
  },
  {
   "cell_type": "markdown",
   "id": "a6771c91-05b2-457c-b34f-ceaaa3482332",
   "metadata": {},
   "source": [
    "```sql\n",
    "GRANT SELECT ON\n",
    "\tbookshopnearme.books,\n",
    "    bookshopnearme.authors,\n",
    "    bookshopnearme.authorsbooks,\n",
    "    bookshopnearme.genresbooks,\n",
    "    bookshopnearme.orderitems\n",
    "    TO\n",
    "    'inventory@localhost';"
   ]
  },
  {
   "cell_type": "markdown",
   "id": "56d4133f-5e46-4769-ab00-ba7e9c9a2591",
   "metadata": {},
   "source": [
    "**Granting privileges to Compliance user:**"
   ]
  },
  {
   "cell_type": "markdown",
   "id": "d1084ac7-0773-44e0-b01e-c3a74eb850da",
   "metadata": {},
   "source": [
    "```sql\n",
    "GRANT SELECT ON\n",
    "\tbookshopnearme.book_notifications,\n",
    "    bookshopnearme.delete_author,\n",
    "    bookshopnearme.delete_book,\n",
    "    bookshopnearme.delete_customer,\n",
    "    bookshopnearme.delete_user,\n",
    "    bookshopnearme.update_author,\n",
    "    bookshopnearme.update_user\n",
    "    TO\n",
    "    'compliance@localhost';"
   ]
  },
  {
   "cell_type": "markdown",
   "id": "eaa63743-7c62-4711-ae92-66227f6a791a",
   "metadata": {},
   "source": [
    "**Granting privileges to Orders user:**"
   ]
  },
  {
   "cell_type": "markdown",
   "id": "74558511-c21c-4286-810b-3cef1a70aa48",
   "metadata": {},
   "source": [
    "```sql\n",
    "GRANT SELECT, INSERT, UPDATE ON\n",
    "\tbookshopnearme.loyaltypoints,\n",
    "    bookshopnearme.orderitems,\n",
    "    bookshopnearme.orders,\n",
    "    bookshopnearme.payments\n",
    "    TO\n",
    "    'orders@localhost';"
   ]
  },
  {
   "cell_type": "markdown",
   "id": "50156215-fe23-4497-8de7-f91b0ccf58ef",
   "metadata": {},
   "source": [
    "**Granting privileges to Analytics user:**"
   ]
  },
  {
   "cell_type": "markdown",
   "id": "b7dd82ee-69fc-48f9-8939-c9320d67c772",
   "metadata": {},
   "source": [
    "Once again, to protect sensitive information, first, let`s create a view:\n"
   ]
  },
  {
   "cell_type": "markdown",
   "id": "67ec900d-48ad-4f1d-9eff-70928e9f200c",
   "metadata": {},
   "source": [
    "```sql\n",
    "CREATE VIEW deleted_customers_view AS\n",
    "SELECT \n",
    "\tdc.id,\n",
    "    dc.deleted_at\n",
    "FROM delete_customer dc;"
   ]
  },
  {
   "cell_type": "markdown",
   "id": "25fed70a-fbe1-426e-92f2-6bbeca94463f",
   "metadata": {},
   "source": [
    "```sql\n",
    "GRANT SELECT ON\n",
    "\tbookshopnearme.authors,\n",
    "    bookshopnearme.authorsbooks,\n",
    "    bookshopnearme.books,\n",
    "    bookshopnearme.genresbooks,\n",
    "    bookshopnearme.delete_author,\n",
    "    bookshopnearme.delete_book,\n",
    "    bookshopnearme.deleted_customers_view,\n",
    "    bookshopnearme.genres,\n",
    "    bookshopnearme.genresbooks,\n",
    "    bookshopnearme.loyaltypoints,\n",
    "    bookshopnearme.orderitems,\n",
    "    bookshopnearme.orders,\n",
    "    bookshopnearme.payments,\n",
    "    bookshopnearme.reviews\n",
    "    TO\n",
    "    'analytics@localhost';"
   ]
  }
 ],
 "metadata": {
  "kernelspec": {
   "display_name": "Python 3 (ipykernel)",
   "language": "python",
   "name": "python3"
  },
  "language_info": {
   "codemirror_mode": {
    "name": "ipython",
    "version": 3
   },
   "file_extension": ".py",
   "mimetype": "text/x-python",
   "name": "python",
   "nbconvert_exporter": "python",
   "pygments_lexer": "ipython3",
   "version": "3.11.5"
  }
 },
 "nbformat": 4,
 "nbformat_minor": 5
}
